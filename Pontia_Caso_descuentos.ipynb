{
  "cells": [
    {
      "cell_type": "markdown",
      "metadata": {
        "id": "view-in-github",
        "colab_type": "text"
      },
      "source": [
        "<a href=\"https://colab.research.google.com/github/Angelaruiga/proyectohosting/blob/main/Pontia_Caso_descuentos.ipynb\" target=\"_parent\"><img src=\"https://colab.research.google.com/assets/colab-badge.svg\" alt=\"Open In Colab\"/></a>"
      ]
    },
    {
      "cell_type": "markdown",
      "metadata": {
        "id": "WgbCXNCgvxPe"
      },
      "source": [
        "# Analítica Rentabilidad Pontia SuperStore: Politica de Descuentos"
      ]
    },
    {
      "cell_type": "markdown",
      "metadata": {
        "id": "2KFc-QpAvxPh"
      },
      "source": [
        "## Importacion de Librerias y Datos"
      ]
    },
    {
      "cell_type": "code",
      "execution_count": null,
      "metadata": {
        "id": "iFs0c1evvxPi"
      },
      "outputs": [],
      "source": [
        "# Librerías Procesamiento de Datos.\n",
        "import pandas as pd\n",
        "import numpy as np\n",
        "\n",
        "# Librería de Visualización\n",
        "import plotly.express as px"
      ]
    },
    {
      "cell_type": "code",
      "execution_count": null,
      "metadata": {
        "id": "jBZWS0kmvxPk"
      },
      "outputs": [],
      "source": [
        "%matplotlib inline"
      ]
    },
    {
      "cell_type": "markdown",
      "metadata": {
        "id": "gflCPAQNvxPk"
      },
      "source": [
        "Google Colab"
      ]
    },
    {
      "cell_type": "code",
      "execution_count": null,
      "metadata": {
        "id": "1j2gRNQFvxPl"
      },
      "outputs": [],
      "source": [
        "## En Google Colab\n",
        "from google.colab import files\n",
        "uploaded = files.upload()"
      ]
    },
    {
      "cell_type": "code",
      "execution_count": null,
      "metadata": {
        "id": "kT4_7WtuvxPm"
      },
      "outputs": [],
      "source": [
        "import io\n",
        "df = pd.read_excel(io.BytesIO(uploaded[\"PontiaSuperStore.xls\"]))\n",
        "df.head(3)"
      ]
    },
    {
      "cell_type": "markdown",
      "metadata": {
        "id": "-iFiTA0ivxPn"
      },
      "source": [
        "En local"
      ]
    },
    {
      "cell_type": "code",
      "execution_count": null,
      "metadata": {
        "id": "QcLAtCl-vxPn"
      },
      "outputs": [],
      "source": [
        "df = pd.read_excel(\"PontiaSuperStore.xls\", sheet_name=\"Orders\")\n",
        "# df = pd.read_csv(\"Sample - Superstore.csv\", encoding = 'Windows-1254')"
      ]
    },
    {
      "cell_type": "markdown",
      "metadata": {
        "id": "DCvdiRy5vxPo"
      },
      "source": [
        "Visualiza una Muestra del dataset:"
      ]
    },
    {
      "cell_type": "code",
      "execution_count": null,
      "metadata": {
        "id": "iFt4gVQfvxPo"
      },
      "outputs": [],
      "source": []
    },
    {
      "cell_type": "markdown",
      "metadata": {
        "id": "mrMn_Qv8vxPp"
      },
      "source": [
        "## Genera las siguientes variables calculadas.\n",
        "- Sales/Quantity\n",
        "- Profit/Quantity\n",
        "- flag_descuento\n",
        "- Year"
      ]
    },
    {
      "cell_type": "markdown",
      "metadata": {
        "id": "g8ciO4BlvxPq"
      },
      "source": [
        "Respuesta:"
      ]
    },
    {
      "cell_type": "code",
      "execution_count": null,
      "metadata": {
        "id": "3iFQYsImvxPq"
      },
      "outputs": [],
      "source": []
    },
    {
      "cell_type": "markdown",
      "metadata": {
        "id": "ornCqwkdvxPq"
      },
      "source": [
        "Elegir un Template:"
      ]
    },
    {
      "cell_type": "code",
      "execution_count": null,
      "metadata": {
        "id": "zOsTk9P1vxPq",
        "outputId": "582a36a6-793c-4a52-ba62-8517133f9e55"
      },
      "outputs": [
        {
          "data": {
            "text/plain": [
              "Templates configuration\n",
              "-----------------------\n",
              "    Default template: 'simple_white'\n",
              "    Available templates:\n",
              "        ['ggplot2', 'seaborn', 'simple_white', 'plotly',\n",
              "         'plotly_white', 'plotly_dark', 'presentation', 'xgridoff',\n",
              "         'ygridoff', 'gridon', 'none']"
            ]
          },
          "execution_count": 27,
          "metadata": {},
          "output_type": "execute_result"
        }
      ],
      "source": [
        "import plotly.io as pio\n",
        "pio.templates"
      ]
    },
    {
      "cell_type": "code",
      "execution_count": null,
      "metadata": {
        "id": "k6fJLGUlvxPr"
      },
      "outputs": [],
      "source": [
        "pio.templates.default = \"simple_white\""
      ]
    },
    {
      "cell_type": "markdown",
      "metadata": {
        "id": "D63_728SvxPs"
      },
      "source": [
        "Selección de Colores:"
      ]
    },
    {
      "cell_type": "code",
      "execution_count": null,
      "metadata": {
        "id": "UC9LTEiHvxPs"
      },
      "outputs": [],
      "source": [
        "colores_envios ={'Standard Class':'darkred', 'First Class':'darkgreen', 'Second Class':'darkblue', 'Same Day':'darkorange'}\n",
        "color_graficos = \"#0A5337\""
      ]
    },
    {
      "cell_type": "markdown",
      "metadata": {
        "id": "mnD5GDicvxPs"
      },
      "source": [
        "# **Tipos de Envios**"
      ]
    },
    {
      "cell_type": "markdown",
      "metadata": {
        "id": "HKPVX76CvxPs"
      },
      "source": [
        "## ¿Qué porcentaje de las ventas se hacen según cada tipo de Modalidad de envio por Barco?"
      ]
    },
    {
      "cell_type": "markdown",
      "metadata": {
        "id": "6wobOHaNvxPt"
      },
      "source": [
        "#### Preparación del Dato.\n",
        "\n",
        "Realiza las agregaciones necesarias para poder graficar."
      ]
    },
    {
      "cell_type": "markdown",
      "metadata": {
        "id": "iDFlAEY_vxPt"
      },
      "source": [
        "Respuesta:"
      ]
    },
    {
      "cell_type": "code",
      "execution_count": null,
      "metadata": {
        "id": "JwoCGTI4vxPt"
      },
      "outputs": [],
      "source": [
        "df_pie = df.groupby(...)..."
      ]
    },
    {
      "cell_type": "markdown",
      "metadata": {
        "id": "KDX8UBUtvxPt"
      },
      "source": [
        "Elegimos un gráfico de..."
      ]
    },
    {
      "cell_type": "markdown",
      "metadata": {
        "id": "eKZZZRJ4vxPu"
      },
      "source": [
        "\n",
        "Queremos que quede para enseñarselo al mismisimo CEO!\n",
        "- Customiza el Titulo.\n",
        "- El nombre de las etiquetas.\n",
        "- Queremos que de forma interactiva aparezca el nº Ventas."
      ]
    },
    {
      "cell_type": "markdown",
      "metadata": {
        "id": "R3IpviScvxPu"
      },
      "source": [
        "Respuesta:"
      ]
    },
    {
      "cell_type": "code",
      "execution_count": null,
      "metadata": {
        "id": "yYFzF-g5vxPu"
      },
      "outputs": [],
      "source": [
        "# Grafico de Tarta.\n",
        "fig_pie_shipmode = ..."
      ]
    },
    {
      "cell_type": "markdown",
      "metadata": {
        "id": "RxOWr0akvxPu"
      },
      "source": [
        "¿Cúal es el modo de envió predominante en la empresa?"
      ]
    },
    {
      "cell_type": "markdown",
      "metadata": {
        "id": "JECHQQj2vxPv"
      },
      "source": [
        "Elegir un Template:"
      ]
    },
    {
      "cell_type": "code",
      "execution_count": null,
      "metadata": {
        "id": "NyelLA6vvxPv",
        "outputId": "d14e1e8b-00b5-4183-980a-b917d890c8a4"
      },
      "outputs": [
        {
          "data": {
            "text/plain": [
              "Templates configuration\n",
              "-----------------------\n",
              "    Default template: 'plotly'\n",
              "    Available templates:\n",
              "        ['ggplot2', 'seaborn', 'simple_white', 'plotly',\n",
              "         'plotly_white', 'plotly_dark', 'presentation', 'xgridoff',\n",
              "         'ygridoff', 'gridon', 'none']"
            ]
          },
          "execution_count": 1,
          "metadata": {},
          "output_type": "execute_result"
        }
      ],
      "source": [
        "import plotly.io as pio\n",
        "pio.templates"
      ]
    },
    {
      "cell_type": "markdown",
      "metadata": {
        "id": "6pruy9NDvxPv"
      },
      "source": [
        "¿Con qué argumento podemos hacer un donnut con el gráfico? https://plotly.com/python-api-reference/generated/plotly.express.pie"
      ]
    },
    {
      "cell_type": "markdown",
      "metadata": {
        "id": "ubFqojnevxPw"
      },
      "source": [
        "Modifica el color de cada tipo de envio."
      ]
    },
    {
      "cell_type": "markdown",
      "metadata": {
        "id": "socFTrKNvxPx"
      },
      "source": [
        "## ¿Cómo han evolucionado con el tiempo las modalidades de envios?\n",
        "\n",
        "Estudiando la evolución temporal queremos ver si es algo que se ha mantenido desde el origen, si ha aumentado o decrecido con el paso del tiempo..."
      ]
    },
    {
      "cell_type": "markdown",
      "metadata": {
        "id": "uSGmVOZZvxPx"
      },
      "source": [
        "Preparación del Dato:"
      ]
    },
    {
      "cell_type": "markdown",
      "metadata": {
        "id": "hJUuEDDNvxPx"
      },
      "source": [
        "Respuesta:"
      ]
    },
    {
      "cell_type": "code",
      "execution_count": null,
      "metadata": {
        "id": "CVUtO_HevxPx"
      },
      "outputs": [],
      "source": [
        "# Preparacion del dato.\n",
        "df_line = df.groupby(...)..."
      ]
    },
    {
      "cell_type": "markdown",
      "metadata": {
        "id": "_CV-SAYxvxPx"
      },
      "source": [
        "Eligiremos una gráfica de..."
      ]
    },
    {
      "cell_type": "code",
      "execution_count": null,
      "metadata": {
        "id": "yFHHMTA_vxPx"
      },
      "outputs": [],
      "source": [
        "# Plotly Express para Gráficar una linea.\n",
        "fig_line_shipmode = ..."
      ]
    },
    {
      "cell_type": "markdown",
      "metadata": {
        "id": "X2bmqtXAvxPy"
      },
      "source": [
        "Elementos de interes a añadir en la gráfica:\n",
        "\n",
        "- Añade Grid en la gráfica (fig_line_discount.update_xaxes)\n",
        "- Añade el importe total de las ventas en hover_data (quizá tengas que modificar el groupby...)"
      ]
    },
    {
      "cell_type": "markdown",
      "metadata": {
        "id": "5FnvlXkMvxPy"
      },
      "source": [
        "## ¿Cómo ha impactado en la rentabilidad del negocio?\n",
        "\n",
        "Queremos comparar el beneficio por unidad de producto contra las ventas por unidad de producto (esto es la rentabilidad de cada venta). Y queremos ver cómo de diferente es la rentabilidad en función si un descuento fue aplicado o no."
      ]
    },
    {
      "cell_type": "markdown",
      "metadata": {
        "id": "ZiHbqDCKvxPy"
      },
      "source": [
        "Preparación del Dato. Respuesta."
      ]
    },
    {
      "cell_type": "code",
      "execution_count": null,
      "metadata": {
        "id": "MRWXccL9vxPy"
      },
      "outputs": [],
      "source": []
    },
    {
      "cell_type": "markdown",
      "metadata": {
        "id": "bTSPtSt5vxPy"
      },
      "source": [
        "Preguntas:\n",
        "\n",
        "- ¿Son rentables todos los modos de envio?\n",
        "\n",
        "- ¿Observas algún outlier? ¿Varia el resultado?"
      ]
    },
    {
      "cell_type": "markdown",
      "metadata": {
        "id": "ggWckfa5vxPz"
      },
      "source": [
        "## ¿Variará en función de la categoria de productos?"
      ]
    },
    {
      "cell_type": "markdown",
      "metadata": {
        "id": "T9_04G91vxPz"
      },
      "source": [
        "Respuesta:"
      ]
    },
    {
      "cell_type": "markdown",
      "metadata": {
        "id": "bW6-GsF8vxPz"
      },
      "source": [
        "fig_reg_category_shipmode = ..."
      ]
    },
    {
      "cell_type": "markdown",
      "metadata": {
        "id": "lUPx9-C9vxPz"
      },
      "source": [
        "Preguntas:\n",
        "\n",
        "- ¿Como varía la rentabilidad según los productos y el modo de envio seleccionado?"
      ]
    },
    {
      "cell_type": "markdown",
      "metadata": {
        "id": "zhmEd0TGvxPz"
      },
      "source": [
        "### **Bonus:**"
      ]
    },
    {
      "cell_type": "markdown",
      "metadata": {
        "id": "Oi7Lgv_SvxP0"
      },
      "source": [
        "## ¿Influye el Modo de Envios en la tasa de Devolución?"
      ]
    },
    {
      "cell_type": "markdown",
      "metadata": {
        "id": "jNf3nx5LvxP0"
      },
      "source": [
        "En el excel de tenemos conocimiento sobre devoluciones. Puedes \"unirlo\" (merge) a nuestro dataset para ver si la elección del metodo de envio puede repercutir en las devoluciones."
      ]
    },
    {
      "cell_type": "markdown",
      "metadata": {
        "id": "4jFJn0I0vxP1"
      },
      "source": [
        "Preparación del dato:"
      ]
    },
    {
      "cell_type": "code",
      "execution_count": null,
      "metadata": {
        "id": "hDkMB8jyvxP1"
      },
      "outputs": [],
      "source": [
        "df_returns = pd.read_excel(\"PontiaSuperStore.xls\", sheet_name=\"Returns\")"
      ]
    },
    {
      "cell_type": "markdown",
      "metadata": {
        "id": "T0YLuwlBvxP1"
      },
      "source": [
        "Respuesta:"
      ]
    },
    {
      "cell_type": "markdown",
      "metadata": {
        "id": "BFakXrKkvxP1"
      },
      "source": [
        "# Guardado del Trabajo."
      ]
    },
    {
      "cell_type": "markdown",
      "metadata": {
        "id": "lawmURyLvxP1"
      },
      "source": [
        "Transformando nuestro Notebook en un Reporting."
      ]
    },
    {
      "cell_type": "code",
      "execution_count": null,
      "metadata": {
        "id": "MHX3gfd1vxP1"
      },
      "outputs": [],
      "source": [
        "fig_reg_category_shipmode.write_html(\"fig_reg_category_shipmode.html\")"
      ]
    },
    {
      "cell_type": "code",
      "execution_count": null,
      "metadata": {
        "id": "gtsFbHdMvxP1",
        "outputId": "f519b986-c7bc-4cd7-e38c-9f55df128180"
      },
      "outputs": [
        {
          "name": "stderr",
          "output_type": "stream",
          "text": [
            "[NbConvertApp] Converting notebook Pontia_CasoPractico2Short.ipynb to html\n",
            "[NbConvertApp] Writing 16955212 bytes to Pontia_CasoPractico2Short.html\n"
          ]
        }
      ],
      "source": [
        "!jupyter nbconvert  --to html --no-input Pontia_CasoPractico2_20231221.ipynb"
      ]
    }
  ],
  "metadata": {
    "kernelspec": {
      "display_name": "kaggle",
      "language": "python",
      "name": "python3"
    },
    "language_info": {
      "codemirror_mode": {
        "name": "ipython",
        "version": 3
      },
      "file_extension": ".py",
      "mimetype": "text/x-python",
      "name": "python",
      "nbconvert_exporter": "python",
      "pygments_lexer": "ipython3",
      "version": "3.8.13"
    },
    "orig_nbformat": 4,
    "colab": {
      "provenance": [],
      "include_colab_link": true
    }
  },
  "nbformat": 4,
  "nbformat_minor": 0
}