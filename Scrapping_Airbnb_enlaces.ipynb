{
  "nbformat": 4,
  "nbformat_minor": 0,
  "metadata": {
    "colab": {
      "provenance": [],
      "authorship_tag": "ABX9TyOt29BCq6OMPU5Fq2mhQfg1",
      "include_colab_link": true
    },
    "kernelspec": {
      "name": "python3",
      "display_name": "Python 3"
    },
    "language_info": {
      "name": "python"
    }
  },
  "cells": [
    {
      "cell_type": "markdown",
      "metadata": {
        "id": "view-in-github",
        "colab_type": "text"
      },
      "source": [
        "<a href=\"https://colab.research.google.com/github/Angelaruiga/proyectohosting/blob/main/Scrapping_Airbnb_enlaces.ipynb\" target=\"_parent\"><img src=\"https://colab.research.google.com/assets/colab-badge.svg\" alt=\"Open In Colab\"/></a>"
      ]
    },
    {
      "cell_type": "code",
      "source": [
        "import requests\n",
        "from bs4 import BeautifulSoup\n",
        "from multiprocessing import Pool\n"
      ],
      "metadata": {
        "id": "HNNYCOuZS-IR"
      },
      "execution_count": 12,
      "outputs": []
    },
    {
      "cell_type": "code",
      "source": [
        "!pip install selenium\n",
        "!pip install fake_useragent"
      ],
      "metadata": {
        "colab": {
          "base_uri": "https://localhost:8080/"
        },
        "id": "B1KBm8F5gJKX",
        "outputId": "e439e5b4-3a4b-4533-d88a-542204ed7a75"
      },
      "execution_count": 13,
      "outputs": [
        {
          "output_type": "stream",
          "name": "stdout",
          "text": [
            "Requirement already satisfied: selenium in /usr/local/lib/python3.10/dist-packages (4.16.0)\n",
            "Requirement already satisfied: urllib3[socks]<3,>=1.26 in /usr/local/lib/python3.10/dist-packages (from selenium) (2.0.7)\n",
            "Requirement already satisfied: trio~=0.17 in /usr/local/lib/python3.10/dist-packages (from selenium) (0.23.2)\n",
            "Requirement already satisfied: trio-websocket~=0.9 in /usr/local/lib/python3.10/dist-packages (from selenium) (0.11.1)\n",
            "Requirement already satisfied: certifi>=2021.10.8 in /usr/local/lib/python3.10/dist-packages (from selenium) (2023.11.17)\n",
            "Requirement already satisfied: attrs>=20.1.0 in /usr/local/lib/python3.10/dist-packages (from trio~=0.17->selenium) (23.1.0)\n",
            "Requirement already satisfied: sortedcontainers in /usr/local/lib/python3.10/dist-packages (from trio~=0.17->selenium) (2.4.0)\n",
            "Requirement already satisfied: idna in /usr/local/lib/python3.10/dist-packages (from trio~=0.17->selenium) (3.6)\n",
            "Requirement already satisfied: outcome in /usr/local/lib/python3.10/dist-packages (from trio~=0.17->selenium) (1.3.0.post0)\n",
            "Requirement already satisfied: sniffio>=1.3.0 in /usr/local/lib/python3.10/dist-packages (from trio~=0.17->selenium) (1.3.0)\n",
            "Requirement already satisfied: exceptiongroup in /usr/local/lib/python3.10/dist-packages (from trio~=0.17->selenium) (1.2.0)\n",
            "Requirement already satisfied: wsproto>=0.14 in /usr/local/lib/python3.10/dist-packages (from trio-websocket~=0.9->selenium) (1.2.0)\n",
            "Requirement already satisfied: pysocks!=1.5.7,<2.0,>=1.5.6 in /usr/local/lib/python3.10/dist-packages (from urllib3[socks]<3,>=1.26->selenium) (1.7.1)\n",
            "Requirement already satisfied: h11<1,>=0.9.0 in /usr/local/lib/python3.10/dist-packages (from wsproto>=0.14->trio-websocket~=0.9->selenium) (0.14.0)\n",
            "Requirement already satisfied: fake_useragent in /usr/local/lib/python3.10/dist-packages (1.4.0)\n"
          ]
        }
      ]
    },
    {
      "cell_type": "code",
      "source": [
        "\n",
        "from selenium import webdriver\n",
        "from selenium.webdriver.common.by import By\n",
        "from selenium.webdriver.common.keys import Keys\n",
        "from selenium.webdriver.chrome.options import Options\n",
        "from selenium.webdriver.support.wait import WebDriverWait #modicado por wait\n",
        "from selenium.webdriver.support import expected_conditions as EC\n",
        "from selenium.webdriver import ActionChains\n",
        "# from selenium.commom.exceptions\n"
      ],
      "metadata": {
        "id": "9nxyOJPXUF0c"
      },
      "execution_count": 14,
      "outputs": []
    },
    {
      "cell_type": "code",
      "source": [
        "#otras\n",
        "import time\n",
        "import random\n",
        "import json\n",
        "import os\n",
        "import pandas as pd\n"
      ],
      "metadata": {
        "id": "BtJuaCtFWMNc"
      },
      "execution_count": 15,
      "outputs": []
    },
    {
      "cell_type": "code",
      "source": [
        "# Definir el navegador que se va a utilizar\n",
        "from fake_useragent import UserAgent\n",
        "# Crea un objeto Options\n",
        "chrome_options = Options()\n",
        "# Añade argumentos a las opciones\n",
        "chrome_options.add_argument('--headless')\n",
        "chrome_options.add_argument('--no-sandbox')\n",
        "chrome_options.add_argument('--disable-dev-shm-usage')\n",
        "ua = UserAgent()\n",
        "chrome_options.add_argument(f'user-agent={ua.random}')\n",
        "chrome_options.headless = True\n",
        "driver = webdriver.Chrome(options=chrome_options)"
      ],
      "metadata": {
        "id": "I6wFP5hYUqnC"
      },
      "execution_count": 16,
      "outputs": []
    },
    {
      "cell_type": "code",
      "source": [
        "# @title enlace URL ARBNB\n",
        "#1 er Definir la url\n",
        "\n",
        "airbnb_url_madrid_enlace_1 = f'https://www.airbnb.es/rooms/36142513?adults=1&category_tag=Tag%3A8678&children=0&enable_m3_private_room=true&infants=0&pets=0&photo_id=1517418695&check_in=2024-01-04&check_out=2024-01-09&source_impression_id=p3_1704383542_jAAH5y4OBHSQxVep&previous_page_section_name=1000&federated_search_id=6a8c502a-8887-461d-9979-8f6d518a5143'\n",
        " # Conexion\n",
        "driver.get(airbnb_url_madrid_enlace_1)\n",
        "time.sleep(5)\n"
      ],
      "metadata": {
        "id": "wtMeZ23-i1y-"
      },
      "execution_count": 17,
      "outputs": []
    },
    {
      "cell_type": "code",
      "execution_count": 18,
      "metadata": {
        "id": "ddv3NjuYi1y_"
      },
      "outputs": [],
      "source": [
        "# Realizar la solicitud HTTP\n",
        "answer = requests.get(airbnb_url_madrid_enlace_1)"
      ]
    },
    {
      "cell_type": "code",
      "execution_count": 19,
      "metadata": {
        "colab": {
          "base_uri": "https://localhost:8080/"
        },
        "outputId": "fbe7d7c3-346a-403d-f784-3c40115606dd",
        "id": "pD56NE_di1y_"
      },
      "outputs": [
        {
          "output_type": "stream",
          "name": "stdout",
          "text": [
            "https://www.airbnb.es/rooms/36142513?adults=1&category_tag=Tag%3A8678&children=0&enable_m3_private_room=true&infants=0&pets=0&photo_id=1517418695&check_in=2024-01-04&check_out=2024-01-09&source_impression_id=p3_1704383542_jAAH5y4OBHSQxVep&previous_page_section_name=1000&federated_search_id=6a8c502a-8887-461d-9979-8f6d518a5143\n",
            "200\n",
            "OK\n"
          ]
        }
      ],
      "source": [
        "# Imprimir información sobre la respuesta HTTP\n",
        "print(answer.url)\n",
        "print(answer.status_code)\n",
        "print(answer.reason)"
      ]
    },
    {
      "cell_type": "code",
      "execution_count": 20,
      "metadata": {
        "id": "2jWDuVkOi1y_"
      },
      "outputs": [],
      "source": [
        " # 3er paso sopa, y ya tenemos html, y parseamos\n",
        "soup = BeautifulSoup(answer.content, 'lxml') #con 'lxml'se supone que va más rápido"
      ]
    },
    {
      "cell_type": "code",
      "source": [
        "from bs4 import BeautifulSoup\n",
        "\n",
        "# Tu HTML\n",
        "html_tipo_alojamiento = '<div><div class=\"_wlu9uw\"><div class=\"_1wiczqm\"><div style=\"height: 40px; width: 40px;\"><svg xmlns=\"http://www.w3.org/2000/svg\" viewBox=\"0 0 40 40\"><rect fill=\"#ebebeb\" height=\"40\" rx=\"20\" width=\"40\"></rect><path d=\"m20.75 11.5c.7908 0 1.4386.6119 1.4959 1.3881l.0041.1119.0007 6.5735c.062.0556.1209.1145.1764.1766l3.5729-.0001v-2.25h-2.25c-.4818 0-.8303-.4443-.7347-.9014l.0232-.0858 1.5-4.5c.0928-.2784.3381-.4744.6245-.5078l.087-.005h3c.2935 0 .557.1707.6792.4319l.0323.0809 1.5 4.5c.1524.4571-.1589.9283-.6228.9821l-.0887.0051h-2.25v2.25h3.75c.3846 0 .7016.2895.745.6625l.005.0875v9h-1.5v-2.25h-7.5v2.25h-1.5v-2.25h-12v2.25h-1.5v-8.25c0-.6664.28972-1.2652.75007-1.6771l-.00007-6.5729c0-.7908.61191-1.4386 1.3881-1.4959l.1119-.0041zm9.75 9.75h-7.5v4.5h7.5zm-9.75-.75h-10.5c-.38463 0-.70163.2895-.74495.6625l-.00505.0875v4.5h12v-4.5c0-.355-.2467-.6525-.578-.7302l-.0845-.0148zm6 2.25c.4142 0 .75.3358.75.75s-.3358.75-.75.75-.75-.3358-.75-.75.3358-.75.75-.75zm-6-9.75h-10.5v6h1.5v-2.25c0-.7908.6119-1.4386 1.3881-1.4959l.1119-.0041h4.5c.7908 0 1.4386.6119 1.4959 1.3881l.0041.1119v2.25h1.5zm-3 3.75h-4.5v2.25h4.5zm9.9592-3.75h-1.9192l-.9998 3h3.9188z\" fill=\"#222\"></path></svg></div></div><div><div class=\"_sg8691\"><h3 tabindex=\"-1\" class=\"hpipapi atm_7l_1kw7nm4 atm_c8_1x4eueo atm_cs_1kw7nm4 atm_g3_1kw7nm4 atm_gi_idpfg4 atm_l8_idpfg4 atm_kd_idpfg4_pfnrn2 dir dir-ltr\" elementtiming=\"LCP-target\">Habitación en: vivienda</h3></div><div class=\"_1dmhz6v\">Una habitación solo para ti con acceso a zonas comunes.</div></div></div></div><div><div class=\"_wlu9uw\"><div class=\"_1wiczqm\"><svg xmlns=\"http://www.w3.org/2000/svg\" viewBox=\"0 0 32 32\" aria-hidden=\"true\" role=\"presentation\" focusable=\"false\" style=\"display: block; height: 24px; width: 24px; fill: currentcolor;\"><path d=\"M31.7 15.3 29 12.58 18.12 1.7a3.07 3.07 0 0 0-4.24 0L3 12.59l-2.7 2.7 1.4 1.42L3 15.4V28a2 2 0 0 0 2 2h22a2 2 0 0 0 2-2V15.41l1.3 1.3ZM9.09 28A7 7 0 0 1 15 22.08v-2.3a2.5 2.5 0 1 1 2 0v2.3A7 7 0 0 1 22.92 28ZM27 28h-2.08a9.01 9.01 0 0 0-5.67-7.4 4.5 4.5 0 1 0-6.5 0A9.01 9.01 0 0 0 7.08 28H5V13.41L15.3 3.12a1 1 0 0 1 1.4 0L27 13.42Z\"></path></svg></div><div><div class=\"_sg8691\"><h3 tabindex=\"-1\" class=\"hpipapi atm_7l_1kw7nm4 atm_c8_1x4eueo atm_cs_1kw7nm4 atm_g3_1kw7nm4 atm_gi_idpfg4 atm_l8_idpfg4 atm_kd_idpfg4_pfnrn2 dir dir-ltr\" elementtiming=\"LCP-target\">Zonas comunes compartidas</h3></div><div class=\"_1dmhz6v\">Compartirás algunas zonas del alojamiento.</div></div></div></div><div><div class=\"_wlu9uw\"><div class=\"_1wiczqm\"><svg xmlns=\"http://www.w3.org/2000/svg\" viewBox=\"0 0 32 32\" aria-hidden=\"true\" role=\"presentation\" focusable=\"false\" style=\"display: block; height: 24px; width: 24px; fill: currentcolor;\"><path d=\"M7 1a3 3 0 0 0-3 2.82V31h2V4a1 1 0 0 1 .88-1H18a1 1 0 0 1 1 .88V5h-5a1 1 0 0 0-1 .88V9h-3v2h19V9h-2V6a1 1 0 0 0-.88-1H21V4a3 3 0 0 0-2.82-3H7zm13 28a1 1 0 1 0 0 2 1 1 0 0 0 0-2zm5 0a1 1 0 1 0 0 2 1 1 0 0 0 0-2zm-10 0a1 1 0 1 0 0 2 1 1 0 0 0 0-2zm5-4a1 1 0 1 0 0 2 1 1 0 0 0 0-2zm5 0a1 1 0 1 0 0 2 1 1 0 0 0 0-2zm-10 0a1 1 0 1 0 0 2 1 1 0 0 0 0-2zm5-4a1 1 0 1 0 0 2 1 1 0 0 0 0-2zm5 0a1 1 0 1 0 0 2 1 1 0 0 0 0-2zm-10 0a1 1 0 1 0 0 2 1 1 0 0 0 0-2zm5-4a1 1 0 1 0 0 2 1 1 0 0 0 0-2zm5 0a1 1 0 1 0 0 2 1 1 0 0 0 0-2zm-10 0a1 1 0 1 0 0 2 1 1 0 0 0 0-2zm5-4a1 1 0 1 0 0 2 1 1 0 0 0 0-2zm-5 0a1 1 0 1 0 0 2 1 1 0 0 0 0-2zm10 0a1 1 0 1 0 0 2 1 1 0 0 0 0-2zM15 7h10v2H15V7z\"></path></svg></div><div><div class=\"_sg8691\"><h3 tabindex=\"-1\" class=\"hpipapi atm_7l_1kw7nm4 atm_c8_1x4eueo atm_cs_1kw7nm4 atm_g3_1kw7nm4 atm_gi_idpfg4 atm_l8_idpfg4 atm_kd_idpfg4_pfnrn2 dir dir-ltr\" elementtiming=\"LCP-target\">Baño compartido</h3></div><div class=\"_1dmhz6v\">Compartirás el baño con otras personas.</div></div></div></div><div><div class=\"_wlu9uw\"><div class=\"_1wiczqm\"><svg xmlns=\"http://www.w3.org/2000/svg\" viewBox=\"0 0 32 32\" aria-hidden=\"true\" role=\"presentation\" focusable=\"false\" style=\"display: block; height: 24px; width: 24px; fill: currentcolor;\"><path d=\"M16.84 27.16v-3.4l-.26.09c-.98.32-2.03.51-3.11.55h-.7A11.34 11.34 0 0 1 1.72 13.36v-.59A11.34 11.34 0 0 1 12.77 1.72h.59c6.03.16 10.89 5.02 11.04 11.05V13.45a11.3 11.3 0 0 1-.9 4.04l-.13.3 7.91 7.9v5.6H25.7l-4.13-4.13zM10.31 7.22a3.1 3.1 0 1 1 0 6.19 3.1 3.1 0 0 1 0-6.2zm0 2.06a1.03 1.03 0 1 0 0 2.06 1.03 1.03 0 0 0 0-2.06zM22.43 25.1l4.12 4.13h2.67v-2.67l-8.37-8.37.37-.68.16-.3c.56-1.15.9-2.42.96-3.77v-.64a9.28 9.28 0 0 0-9-9h-.55a9.28 9.28 0 0 0-9 9v.54a9.28 9.28 0 0 0 13.3 8.1l.3-.16 1.52-.8v4.62z\"></path></svg></div><div><div class=\"_sg8691\"><h3 tabindex=\"-1\" class=\"hpipapi atm_7l_1kw7nm4 atm_c8_1x4eueo atm_cs_1kw7nm4 atm_g3_1kw7nm4 atm_gi_idpfg4 atm_l8_idpfg4 atm_kd_idpfg4_pfnrn2 dir dir-ltr\" elementtiming=\"LCP-target\">Proceso de llegada excelente</h3></div><div class=\"_1dmhz6v\">El 90&nbsp;% de los últimos huéspedes han valorado con 5 estrellas el proceso de llegada.</div></div></div></div>'\n",
        "\n",
        "# Crear una sopa con BeautifulSoup\n",
        "soup = BeautifulSoup(html_tipo_alojamiento, 'html.parser')\n",
        "\n",
        "# Buscar los elementos por su clase\n",
        "tipo_alojamiento = soup.find_all(class_='_sg8691')\n",
        "\n",
        "# Extraer el texto de cada elemento\n",
        "for tipo_alojamiento in tipo_alojamiento:\n",
        "    print(tipo_alojamiento.get_text())\n"
      ],
      "metadata": {
        "colab": {
          "base_uri": "https://localhost:8080/"
        },
        "id": "WVMberVk_mtR",
        "outputId": "939d1837-f2cc-40fc-a13d-3d0296ca251e"
      },
      "execution_count": 87,
      "outputs": [
        {
          "output_type": "stream",
          "name": "stdout",
          "text": [
            "Habitación en: vivienda\n",
            "Zonas comunes compartidas\n",
            "Baño compartido\n",
            "Proceso de llegada excelente\n"
          ]
        }
      ]
    },
    {
      "cell_type": "code",
      "source": [
        "from bs4 import BeautifulSoup\n",
        "\n",
        "# Tu HTML\n",
        "html_tipo_alojamiento = \"<ol class=\\\"lgx66tx atm_gi_idpfg4 atm_l8_idpfg4 dir dir-ltr\\\"><li class=\\\"l7n4lsf atm_9s_1o8liyq_keqd55 dir dir-ltr\\\">1 cama individual grande<span class=\\\"axjq0r atm_9s_glywfm dir dir-ltr\\\"><span class=\\\"s1b4clln atm_mj_glywfm atm_vb_glywfm atm_vv_1jtmq4 atm_lk_idpfg4 atm_ll_idpfg4 dir dir-ltr\\\" aria-hidden=\\\"true\\\"> · </span></span></li><li class=\\\"l7n4lsf atm_9s_1o8liyq_keqd55 dir dir-ltr\\\"><span class=\\\"pen26si dir dir-ltr\\\"><span class=\\\"s1b4clln atm_mj_glywfm atm_vb_glywfm atm_vv_1jtmq4 atm_lk_idpfg4 atm_ll_idpfg4 dir dir-ltr\\\" aria-hidden=\\\"true\\\"> · </span></span>Baño compartido</li></ol>\"\n",
        "# Crear una sopa con BeautifulSoup\n",
        "soup = BeautifulSoup(html_tipo_alojamiento, 'html.parser')\n",
        "\n",
        "# Buscar los elementos por su clase\n",
        "tipo_alojamiento = soup.find_all(class_='lgx66tx')\n",
        "\n",
        "# Extraer el texto de cada elemento\n",
        "for tipo_alojamiento in tipo_alojamiento:\n",
        "    print(tipo_alojamiento.get_text())\n"
      ],
      "metadata": {
        "colab": {
          "base_uri": "https://localhost:8080/"
        },
        "id": "jZKowgXvzBMe",
        "outputId": "55d902ae-6062-4460-8955-4e67fc6a3e90"
      },
      "execution_count": 86,
      "outputs": [
        {
          "output_type": "stream",
          "name": "stdout",
          "text": [
            "1 cama individual grande ·  · Baño compartido\n"
          ]
        }
      ]
    },
    {
      "cell_type": "code",
      "source": [
        "from bs4 import BeautifulSoup\n",
        "\n",
        "# Tu HTML\n",
        "html_tipo_alojamiento = '<div class=\"_3hmsj\"><section><div class=\"_nvboop\"><h2 tabindex=\"-1\" class=\"hpipapi atm_7l_1kw7nm4 atm_c8_1x4eueo atm_cs_1kw7nm4 atm_g3_1kw7nm4 atm_gi_idpfg4 atm_l8_idpfg4 atm_kd_idpfg4_pfnrn2 dir dir-ltr\" elementtiming=\"LCP-target\">¿Qué hay en este alojamiento?</h2></div><div><div class=\"_11jhslp\"><div class=\"_87jbxlz\"><h3 tabindex=\"-1\" class=\"hpipapi atm_7l_1kw7nm4 atm_c8_1x4eueo atm_cs_1kw7nm4 atm_g3_1kw7nm4 atm_gi_idpfg4 atm_l8_idpfg4 atm_kd_idpfg4_pfnrn2 dir dir-ltr\" elementtiming=\"LCP-target\">Baño</h3></div><ul class=\"_2f5j8p\" role=\"list\"><li><div id=\"pdp_v3_bathroom_61_36142513-0\" class=\"rten07p atm_lo_1tcgj5g atm_le_1tcgj5g atm_5j_t94yts dir dir-ltr\"><div class=\"f16mr5nx atm_9s_1txwivl dir dir-ltr\"><div class=\"lhg7v4y atm_h0_exct8b dir dir-ltr\"><div class=\"i12mny15 atm_j6_adnk3f atm_9s_1txwivl atm_h_1h6ojuz dir dir-ltr\"><svg xmlns=\"http://www.w3.org/2000/svg\" viewBox=\"0 0 32 32\" aria-hidden=\"true\" role=\"presentation\" focusable=\"false\" style=\"display: block; height: 24px; width: 24px; fill: currentcolor;\"><path d=\"M7.5 2a4.5 4.5 0 0 1 4.47 4H14v2H8V6h1.95A2.5 2.5 0 0 0 5 6.34V16h26v2h-2v5a5 5 0 0 1-3 4.58V30h-2v-2H8v2H6v-2.42a5 5 0 0 1-3-4.34V18H1v-2h2V6.5A4.5 4.5 0 0 1 7.5 2zM27 18H5v5a3 3 0 0 0 2.65 2.98l.17.01L8 26h16a3 3 0 0 0 3-2.82V23z\"></path></svg></div></div><div class=\"m1ec1bsa atm_9s_1txwivl atm_ar_1bp4okc atm_fc_1h6ojuz atm_am_ggq5uc atm_vy_1osqo2v dir dir-ltr\"><div id=\"pdp_v3_bathroom_61_36142513-0-row-title\" class=\"twad414 atm_7l_18pqv07 atm_9j_1kw7nm4 atm_bx_1ltc5j7 atm_c8_8ycq01 atm_g3_adnk3f atm_fr_rvubnj dir dir-ltr\">Bañera</div></div></div></div><div class=\"_1wadwfl\"></div></li><li><div id=\"pdp_v3_bathroom_45_36142513-0\" class=\"rten07p atm_lo_1tcgj5g atm_le_1tcgj5g atm_5j_t94yts dir dir-ltr\"><div class=\"f16mr5nx atm_9s_1txwivl dir dir-ltr\"><div class=\"lhg7v4y atm_h0_exct8b dir dir-ltr\"><div class=\"i12mny15 atm_j6_adnk3f atm_9s_1txwivl atm_h_1h6ojuz dir dir-ltr\"><svg xmlns=\"http://www.w3.org/2000/svg\" viewBox=\"0 0 32 32\" aria-hidden=\"true\" role=\"presentation\" focusable=\"false\" style=\"display: block; height: 24px; width: 24px; fill: currentcolor;\"><path d=\"M14 27v.2a4 4 0 0 1-3.8 3.8H4v-2h6.15a2 2 0 0 0 1.84-1.84L12 27zM10 1c.54 0 1.07.05 1.58.14l.38.07 17.45 3.65a2 2 0 0 1 1.58 1.79l.01.16v6.38a2 2 0 0 1-1.43 1.91l-.16.04-13.55 2.83 1.76 6.5A2 2 0 0 1 15.87 27l-.18.01h-3.93a2 2 0 0 1-1.88-1.32l-.05-.15-1.88-6.76A9 9 0 0 1 10 1zm5.7 24-1.8-6.62-1.81.38a9 9 0 0 1-1.67.23h-.33L11.76 25zM10 3a7 7 0 1 0 1.32 13.88l.33-.07L29 13.18V6.8L11.54 3.17A7.03 7.03 0 0 0 10 3zm0 2a5 5 0 1 1 0 10 5 5 0 0 1 0-10zm0 2a3 3 0 1 0 0 6 3 3 0 0 0 0-6z\"></path></svg></div></div><div class=\"m1ec1bsa atm_9s_1txwivl atm_ar_1bp4okc atm_fc_1h6ojuz atm_am_ggq5uc atm_vy_1osqo2v dir dir-ltr\"><div id=\"pdp_v3_bathroom_45_36142513-0-row-title\" class=\"twad414 atm_7l_18pqv07 atm_9j_1kw7nm4 atm_bx_1ltc5j7 atm_c8_8ycq01 atm_g3_adnk3f atm_fr_rvubnj dir dir-ltr\">Secador de pelo</div></div></div></div><div class=\"_1wadwfl\"></div></li><li><div id=\"pdp_v3_bathroom_657_36142513-0\" class=\"rten07p atm_lo_1tcgj5g atm_le_1tcgj5g atm_5j_t94yts dir dir-ltr\"><div class=\"f16mr5nx atm_9s_1txwivl dir dir-ltr\"><div class=\"lhg7v4y atm_h0_exct8b dir dir-ltr\"><div class=\"i12mny15 atm_j6_adnk3f atm_9s_1txwivl atm_h_1h6ojuz dir dir-ltr\"><svg xmlns=\"http://www.w3.org/2000/svg\" viewBox=\"0 0 32 32\" aria-hidden=\"true\" role=\"presentation\" focusable=\"false\" style=\"display: block; height: 24px; width: 24px; fill: currentcolor;\"><path d=\"M20 1v2h-3v2h1a2 2 0 0 1 2 1.85V9a4 4 0 0 1 4 3.8V27a4 4 0 0 1-3.8 4H12a4 4 0 0 1-4-3.8V13a4 4 0 0 1 3.8-4h.2V7a2 2 0 0 1 1.85-2H15V3H8V1zm2 21H10v5a2 2 0 0 0 1.85 2H20a2 2 0 0 0 2-1.85V27zm0-6H10v4h12zm-2-5h-8a2 2 0 0 0-2 1.85V14h12v-1a2 2 0 0 0-2-2zm-2-4h-4v2h4z\"></path></svg></div></div><div class=\"m1ec1bsa atm_9s_1txwivl atm_ar_1bp4okc atm_fc_1h6ojuz atm_am_ggq5uc atm_vy_1osqo2v dir dir-ltr\"><div id=\"pdp_v3_bathroom_657_36142513-0-row-title\" class=\"twad414 atm_7l_18pqv07 atm_9j_1kw7nm4 atm_bx_1ltc5j7 atm_c8_8ycq01 atm_g3_adnk3f atm_fr_rvubnj dir dir-ltr\">Acondicionador</div></div></div></div><div class=\"_1wadwfl\"></div></li><li><div id=\"pdp_v3_bathroom_167_36142513-0\" class=\"rten07p atm_lo_1tcgj5g atm_le_1tcgj5g atm_5j_t94yts dir dir-ltr\"><div class=\"f16mr5nx atm_9s_1txwivl dir dir-ltr\"><div class=\"lhg7v4y atm_h0_exct8b dir dir-ltr\"><div class=\"i12mny15 atm_j6_adnk3f atm_9s_1txwivl atm_h_1h6ojuz dir dir-ltr\"><svg xmlns=\"http://www.w3.org/2000/svg\" viewBox=\"0 0 32 32\" aria-hidden=\"true\" role=\"presentation\" focusable=\"false\" style=\"display: block; height: 24px; width: 24px; fill: currentcolor;\"><path d=\"M10 2a3 3 0 0 1 3 2.82V16h14a1 1 0 0 1 1 .88V17a8 8 0 0 1-7.75 8h-4.77l1.45 3.63a1 1 0 0 1-.7 1.35l-.11.01L16 30H4a1 1 0 0 1-1-.88V5a3 3 0 0 1 2.82-3H10zm15.91 16H5v10h9.52l-1.45-3.63a1 1 0 0 1 .7-1.35l.11-.01L14 23h6a6 6 0 0 0 5.85-4.67l.05-.23.01-.1zM10 4H6a1 1 0 0 0-1 .88V16h6V5a1 1 0 0 0-.77-.97L10.12 4 10 4zm11 9a1 1 0 1 1 0 2 1 1 0 0 1 0-2zm0-3a1 1 0 1 1 0 2 1 1 0 0 1 0-2zm4 0a1 1 0 1 1 0 2 1 1 0 0 1 0-2zm-8 0a1 1 0 1 1 0 2 1 1 0 0 1 0-2zm6-2a1 1 0 1 1 0 2 1 1 0 0 1 0-2zm-4 0a1 1 0 1 1 0 2 1 1 0 0 1 0-2zM8 6a1 1 0 1 1 0 2 1 1 0 0 1 0-2z\"></path></svg></div></div><div class=\"m1ec1bsa atm_9s_1txwivl atm_ar_1bp4okc atm_fc_1h6ojuz atm_am_ggq5uc atm_vy_1osqo2v dir dir-ltr\"><div id=\"pdp_v3_bathroom_167_36142513-0-row-title\" class=\"twad414 atm_7l_18pqv07 atm_9j_1kw7nm4 atm_bx_1ltc5j7 atm_c8_8ycq01 atm_g3_adnk3f atm_fr_rvubnj dir dir-ltr\">Bidé</div></div></div></div><div class=\"_1wadwfl\"></div></li><li><div id=\"pdp_v3_bathroom_77_36142513-0\" class=\"rten07p atm_lo_1tcgj5g atm_le_1tcgj5g atm_5j_t94yts dir dir-ltr\"><div class=\"f16mr5nx atm_9s_1txwivl dir dir-ltr\"><div class=\"lhg7v4y atm_h0_exct8b dir dir-ltr\"><div class=\"i12mny15 atm_j6_adnk3f atm_9s_1txwivl atm_h_1h6ojuz dir dir-ltr\"><svg viewBox=\"0 0 32 32\" xmlns=\"http://www.w3.org/2000/svg\" aria-hidden=\"true\" role=\"presentation\" focusable=\"false\" style=\"display: block; height: 24px; width: 24px; fill: currentcolor;\"><path d=\"m4 2v2h2l.001 2h-1.001c-1.1045695 0-2 .8954305-2 2v16.3846154c0 3.0720253 2.20424471 5.6153846 5 5.6153846h16c2.7957553 0 5-2.5433593 5-5.6153846v-9.3846154h-2l.0006267 2.2441864c-.2957862.1662973-.6415947.2556548-1.0003023.2558136-.3770726-.0001668-.7397707-.0987428-1.0448826-.2813581l-.147435-.0980881-.0698054-.0542225-.0669618-.0575717c-.1674894-.1516722-.3473184-.2870627-.5370123-.4056091-.1267551-.0791722-.2576057-.1507019-.3921007-.2145789l-.2041007-.0899647c-.4828805-.1966888-1.005996-.2986069-1.537908-.2986069-.1521835 0-.3034078.0083174-.453179.0247859l-.2234033.0307902c-.658505.1092272-1.2810008.3778141-1.8035225.7911936l-.1911344.1617761c-.3493432.3161496-.8261929.4912319-1.3293208.4914542-.5021258-.0002223-.9789755-.1753046-1.3283187-.4914542-.7261733-.6571745-1.6832835-1.0085458-2.6712392-1.0085458-.9878365 0-1.9453342.3515135-2.6706493 1.008332-.3497754.3163381-.8267557.4914457-1.3290263.491668-.502832-.0002223-.97980321-.1753492-1.32908476-.4912404-.72578749-.6572461-1.68328523-1.0087596-2.67112174-1.0087596-.34005846 0-.67646247.0416292-1.00105227.1230294l.00093437-8.1230294h4v2h2v-2c0-1.1045695-.8954305-2-2-2h-.999l-.001-2.001 2 .001v-2zm22.0003242 17.4999999c.3396204-.0001501.6755904-.0417799.9997827-.1230407v5.0076562c0 2.0259877-1.3775842 3.6153845-3.0001069 3.6153845h-16c-1.62252271 0-3-1.5893968-3-3.6153845l-.00148637-6.1285018c.29592169-.1666518.64208407-.2561137 1.00160427-.2561137.5026133 0 .97950576.1750753 1.32911493.4916681.72598912.6565871 1.68280283 1.0078952 2.67109137 1.0083319.9877-.0004367 1.9445263-.3517037 2.6710333-1.0087595.3491367-.3161652.8260292-.4912405 1.3286425-.4912405.5028479 0 .9795643.1750107 1.3292324.4914543.725724.6567679 1.6826278 1.008109 2.6713278 1.0085457.987581-.0004368 1.9447946-.351846 2.6704432-1.0085457.3496467-.3164242.826354-.4914543 1.3288787-.4914543.5028479 0 .9795643.1750107 1.3292324.4914543.6698295.6061843 1.5369688.9522395 2.4431705 1.0022354zm-8.0059505-15.50004556-1.999421.00109132c.0017379 1.66765868-.3914074 2.67484348-1.6096005 4.57626989l-.4357339.67326735c-1.1985316 1.8730246-1.7578573 3.1084741-1.9072678 4.7489216l2.013841.0007885c.1565646-1.2622433.6616712-2.2705308 1.7787146-3.9820993l.243287-.37580218c1.405662-2.19695557 1.9189882-3.50550246 1.9161806-5.64243718zm3.0005862.00002214c-.0019426 1.6881104-.3993036 2.69826243-1.6537336 4.66840333l-.3870791.60284703c-1.2033592 1.89238746-1.7606515 3.11545826-1.9109072 4.72843796h2.0148819c.1395749-1.0872185.5479182-1.9947141 1.4095297-3.3786139l.7616667-1.19781229c1.2938583-2.07979737 1.7634695-3.36210955 1.7656416-5.42219097zm5 0c-.0019426 1.6881104-.3993036 2.69826243-1.6537336 4.66840333l-.3870791.60284703c-1.2033592 1.89238746-1.7606515 3.11545826-1.9109072 4.72843796h2.0148819c.1395749-1.0872185.5479182-1.9947141 1.4095297-3.3786139l.7616667-1.19781229c1.2938583-2.07979737 1.7634695-3.36210955 1.7656416-5.42219097z\"></path></svg></div></div><div class=\"m1ec1bsa atm_9s_1txwivl atm_ar_1bp4okc atm_fc_1h6ojuz atm_am_ggq5uc atm_vy_1osqo2v dir dir-ltr\"><div id=\"pdp_v3_bathroom_77_36142513-0-row-title\" class=\"twad414 atm_7l_18pqv07 atm_9j_1kw7nm4 atm_bx_1ltc5j7 atm_c8_8ycq01 atm_g3_adnk3f atm_fr_rvubnj dir dir-ltr\">Agua caliente</div></div></div></div><div class=\"_1wadwfl\"></div></li></ul></div><div class=\"_11jhslp\"><div class=\"_87jbxlz\"><h3 tabindex=\"-1\" class=\"hpipapi atm_7l_1kw7nm4 atm_c8_1x4eueo atm_cs_1kw7nm4 atm_g3_1kw7nm4 atm_gi_idpfg4 atm_l8_idpfg4 atm_kd_idpfg4_pfnrn2 dir dir-ltr\" elementtiming=\"LCP-target\">Dormitorio y lavandería</h3></div><ul class=\"_2f5j8p\" role=\"list\"><li><div id=\"pdp_v3_bedroom_laundry_40_36142513-0\" class=\"rten07p atm_lo_1tcgj5g atm_le_1tcgj5g atm_5j_t94yts dir dir-ltr\"><div class=\"f16mr5nx atm_9s_1txwivl dir dir-ltr\"><div class=\"lhg7v4y atm_h0_exct8b dir dir-ltr\"><div class=\"i12mny15 atm_j6_adnk3f atm_9s_1txwivl atm_h_1h6ojuz dir dir-ltr\"><svg xmlns=\"http://www.w3.org/2000/svg\" viewBox=\"0 0 32 32\" aria-hidden=\"true\" role=\"presentation\" focusable=\"false\" style=\"display: block; height: 24px; width: 24px; fill: currentcolor;\"><path d=\"M11 1v7l1.9 20.82v.17a2.01 2.01 0 0 1-1.81 2 2 2 0 0 1-.18.01H2.92a2.01 2.01 0 0 1-1.82-2v-.09l1.9-21V1zm6 0h.15a2 2 0 0 1 1.84 1.84L19 3v7.12l-2 8V31h-2V17.96l.03-.16.03-.16L16.72 11H13V1zm11 0a2 2 0 0 1 2 1.85V29a2 2 0 0 1-1.85 2H21v-2h7v-2h-7v-2h7v-2h-7v-2h7v-2h-7v-2h7v-2h-7v-2h7v-2h-7V9h7V7h-7V5h7V3h-7V1zM9.09 9H4.9L3.1 29h7.81v-.06zM17 3h-2v6h2zM9 3H5v4h4z\"></path></svg></div></div><div class=\"m1ec1bsa atm_9s_1txwivl atm_ar_1bp4okc atm_fc_1h6ojuz atm_am_ggq5uc atm_vy_1osqo2v dir dir-ltr\"><div id=\"pdp_v3_bedroom_laundry_40_36142513-0-row-title\" class=\"twad414 atm_7l_18pqv07 atm_9j_1kw7nm4 atm_bx_1ltc5j7 atm_c8_8ycq01 atm_g3_adnk3f atm_fr_rvubnj dir dir-ltr\">Elementos básicos</div><div class=\"s9gst5p atm_7l_12u4tyr atm_h3_1y44olf atm_bx_1ltc5j7 atm_w4_1hnarqo atm_c8_fkimz8 atm_g3_11yl58k atm_fr_4ym3tx dir dir-ltr\">Toallas, sábanas, jabón y papel higiénico</div></div></div></div><div class=\"_1wadwfl\"></div></li><li><div id=\"pdp_v3_bedroom_laundry_44_36142513-0\" class=\"rten07p atm_lo_1tcgj5g atm_le_1tcgj5g atm_5j_t94yts dir dir-ltr\"><div class=\"f16mr5nx atm_9s_1txwivl dir dir-ltr\"><div class=\"lhg7v4y atm_h0_exct8b dir dir-ltr\"><div class=\"i12mny15 atm_j6_adnk3f atm_9s_1txwivl atm_h_1h6ojuz dir dir-ltr\"><svg xmlns=\"http://www.w3.org/2000/svg\" viewBox=\"0 0 32 32\" aria-hidden=\"true\" role=\"presentation\" focusable=\"false\" style=\"display: block; height: 24px; width: 24px; fill: currentcolor;\"><path d=\"M16 2a5 5 0 0 1 1.66 9.72 1 1 0 0 0-.65.81l-.01.13v.81l13.23 9.05a3 3 0 0 1 1.3 2.28v.2a3 3 0 0 1-3 3H3.47a3 3 0 0 1-1.69-5.48L15 13.47v-.81a3 3 0 0 1 1.82-2.76l.17-.07a3 3 0 1 0-3.99-3V7h-2a5 5 0 0 1 5-5zm0 13.21L2.9 24.17A1 1 0 0 0 3.46 26h25.07a1 1 0 0 0 .57-1.82z\"></path></svg></div></div><div class=\"m1ec1bsa atm_9s_1txwivl atm_ar_1bp4okc atm_fc_1h6ojuz atm_am_ggq5uc atm_vy_1osqo2v dir dir-ltr\"><div id=\"pdp_v3_bedroom_laundry_44_36142513-0-row-title\" class=\"twad414 atm_7l_18pqv07 atm_9j_1kw7nm4 atm_bx_1ltc5j7 atm_c8_8ycq01 atm_g3_adnk3f atm_fr_rvubnj dir dir-ltr\">Perchas</div></div></div></div><div class=\"_1wadwfl\"></div></li><li><div id=\"pdp_v3_bedroom_laundry_85_36142513-0\" class=\"rten07p atm_lo_1tcgj5g atm_le_1tcgj5g atm_5j_t94yts dir dir-ltr\"><div class=\"f16mr5nx atm_9s_1txwivl dir dir-ltr\"><div class=\"lhg7v4y atm_h0_exct8b dir dir-ltr\"><div class=\"i12mny15 atm_j6_adnk3f atm_9s_1txwivl atm_h_1h6ojuz dir dir-ltr\"><svg xmlns=\"http://www.w3.org/2000/svg\" viewBox=\"0 0 32 32\" aria-hidden=\"true\" role=\"presentation\" focusable=\"false\" style=\"display: block; height: 24px; width: 24px; fill: currentcolor;\"><path d=\"M19.59 2a2 2 0 0 1 1.28.47l.13.12L29.41 11a2 2 0 0 1 .58 1.24l.01.17V25a5 5 0 0 1-4.78 5H4a2 2 0 0 1-2-1.85V7a5 5 0 0 1 4.78-5H7zM7 4a3 3 0 0 0-3 2.82V21a3 3 0 0 0 2.82 3H26v2H7a4.98 4.98 0 0 1-3-1v3h21a3 3 0 0 0 3-2.82V22H6v-2h22v-6h-5a5 5 0 0 1-5-4.78V4zm20.59 8L20 4.42V9a3 3 0 0 0 2.82 3H23z\"></path></svg></div></div><div class=\"m1ec1bsa atm_9s_1txwivl atm_ar_1bp4okc atm_fc_1h6ojuz atm_am_ggq5uc atm_vy_1osqo2v dir dir-ltr\"><div id=\"pdp_v3_bedroom_laundry_85_36142513-0-row-title\" class=\"twad414 atm_7l_18pqv07 atm_9j_1kw7nm4 atm_bx_1ltc5j7 atm_c8_8ycq01 atm_g3_adnk3f atm_fr_rvubnj dir dir-ltr\">Ropa de cama</div></div></div></div><div class=\"_1wadwfl\"></div></li><li><div id=\"pdp_v3_bedroom_laundry_86_36142513-0\" class=\"rten07p atm_lo_1tcgj5g atm_le_1tcgj5g atm_5j_t94yts dir dir-ltr\"><div class=\"f16mr5nx atm_9s_1txwivl dir dir-ltr\"><div class=\"lhg7v4y atm_h0_exct8b dir dir-ltr\"><div class=\"i12mny15 atm_j6_adnk3f atm_9s_1txwivl atm_h_1h6ojuz dir dir-ltr\"><svg xmlns=\"http://www.w3.org/2000/svg\" viewBox=\"0 0 32 32\" aria-hidden=\"true\" role=\"presentation\" focusable=\"false\" style=\"display: block; height: 24px; width: 24px; fill: currentcolor;\"><path d=\"M26.8 4a3 3 0 0 0-1.87.83l-.02.02-.11-.02A47.19 47.19 0 0 0 7.94 4.7l-.85.15-.02-.02A3 3 0 0 0 2 7v.21a3 3 0 0 0 .56 1.54l.03.03-.05.28a44.99 44.99 0 0 0 0 13.88l.05.28-.03.03A3 3 0 0 0 5 28h.2a3 3 0 0 0 1.87-.83l.02-.02.11.02a47.19 47.19 0 0 0 16.86.13l.85-.15.02.02A3 3 0 0 0 30 25v-.21a3 3 0 0 0-.56-1.54l-.03-.03.05-.28c.71-4.74.72-9.16 0-13.88l-.05-.28.03-.03A3 3 0 0 0 27 4h-.2zm.2 2a1 1 0 0 1 .68 1.74l-.4.36.09.54a43.3 43.3 0 0 1 0 14.72l-.1.54.4.36a1 1 0 1 1-1.52 1.27l-.37-.6-.68.15a45.29 45.29 0 0 1-18.2 0l-.68-.14-.37.59a1 1 0 1 1-1.52-1.27l.4-.36-.1-.54a43.25 43.25 0 0 1 0-14.72l.1-.54-.4-.36a1 1 0 1 1 1.52-1.27l.37.6.68-.15a45.29 45.29 0 0 1 18.2 0l.68.14.37-.59A1 1 0 0 1 27 6z\"></path></svg></div></div><div class=\"m1ec1bsa atm_9s_1txwivl atm_ar_1bp4okc atm_fc_1h6ojuz atm_am_ggq5uc atm_vy_1osqo2v dir dir-ltr\"><div id=\"pdp_v3_bedroom_laundry_86_36142513-0-row-title\" class=\"twad414 atm_7l_18pqv07 atm_9j_1kw7nm4 atm_bx_1ltc5j7 atm_c8_8ycq01 atm_g3_adnk3f atm_fr_rvubnj dir dir-ltr\">Almohadas y mantas adicionales</div></div></div></div><div class=\"_1wadwfl\"></div></li><li><div id=\"pdp_v3_bedroom_laundry_73_36142513-0\" class=\"rten07p atm_lo_1tcgj5g atm_le_1tcgj5g atm_5j_t94yts dir dir-ltr\"><div class=\"f16mr5nx atm_9s_1txwivl dir dir-ltr\"><div class=\"lhg7v4y atm_h0_exct8b dir dir-ltr\"><div class=\"i12mny15 atm_j6_adnk3f atm_9s_1txwivl atm_h_1h6ojuz dir dir-ltr\"><svg xmlns=\"http://www.w3.org/2000/svg\" viewBox=\"0 0 32 32\" aria-hidden=\"true\" role=\"presentation\" focusable=\"false\" style=\"display: block; height: 24px; width: 24px; fill: currentcolor;\"><path d=\"M1 2V0h30v2h-2v18a2 2 0 0 1-1.85 2H17v2.17a3 3 0 1 1-2 0V22H5a2 2 0 0 1-2-1.85V2zm15 24a1 1 0 1 0 0 2 1 1 0 0 0 0-2zM27 2H5v18h22z\"></path></svg></div></div><div class=\"m1ec1bsa atm_9s_1txwivl atm_ar_1bp4okc atm_fc_1h6ojuz atm_am_ggq5uc atm_vy_1osqo2v dir dir-ltr\"><div id=\"pdp_v3_bedroom_laundry_73_36142513-0-row-title\" class=\"twad414 atm_7l_18pqv07 atm_9j_1kw7nm4 atm_bx_1ltc5j7 atm_c8_8ycq01 atm_g3_adnk3f atm_fr_rvubnj dir dir-ltr\">Persianas o cortinas opacas</div></div></div></div><div class=\"_1wadwfl\"></div></li><li><div id=\"pdp_v3_bedroom_laundry_46_36142513-0\" class=\"rten07p atm_lo_1tcgj5g atm_le_1tcgj5g atm_5j_t94yts dir dir-ltr\"><div class=\"f16mr5nx atm_9s_1txwivl dir dir-ltr\"><div class=\"lhg7v4y atm_h0_exct8b dir dir-ltr\"><div class=\"i12mny15 atm_j6_adnk3f atm_9s_1txwivl atm_h_1h6ojuz dir dir-ltr\"><svg xmlns=\"http://www.w3.org/2000/svg\" viewBox=\"0 0 32 32\" aria-hidden=\"true\" role=\"presentation\" focusable=\"false\" style=\"display: block; height: 24px; width: 24px; fill: currentcolor;\"><path d=\"M12 28a1 1 0 1 1 0 2 1 1 0 0 1 0-2zm4 0a1 1 0 1 1 0 2 1 1 0 0 1 0-2zm4 0a1 1 0 1 1 0 2 1 1 0 0 1 0-2zm-6-3a1 1 0 1 1 0 2 1 1 0 0 1 0-2zm4 0a1 1 0 1 1 0 2 1 1 0 0 1 0-2zM16.03 3h.3a12.5 12.5 0 0 1 11.82 9.48l.07.3 1.73 7.79.03.14A2 2 0 0 1 28.15 23H2.1a2 2 0 0 1-1.85-1.84v-7.38a5 5 0 0 1 4.77-4.77L5.25 9h9V5h-14V3zm11.53 16H2.25v2H28zM16.24 5v6H5.07a3 3 0 0 0-2.82 2.82V17H27.1l-.84-3.78-.07-.28a10.5 10.5 0 0 0-9.6-7.92L16.32 5z\"></path></svg></div></div><div class=\"m1ec1bsa atm_9s_1txwivl atm_ar_1bp4okc atm_fc_1h6ojuz atm_am_ggq5uc atm_vy_1osqo2v dir dir-ltr\"><div id=\"pdp_v3_bedroom_laundry_46_36142513-0-row-title\" class=\"twad414 atm_7l_18pqv07 atm_9j_1kw7nm4 atm_bx_1ltc5j7 atm_c8_8ycq01 atm_g3_adnk3f atm_fr_rvubnj dir dir-ltr\">Plancha</div></div></div></div><div class=\"_1wadwfl\"></div></li><li><div id=\"pdp_v3_bedroom_laundry_671_36142513-0\" class=\"rten07p atm_lo_1tcgj5g atm_le_1tcgj5g atm_5j_t94yts dir dir-ltr\"><div class=\"f16mr5nx atm_9s_1txwivl dir dir-ltr\"><div class=\"lhg7v4y atm_h0_exct8b dir dir-ltr\"><div class=\"i12mny15 atm_j6_adnk3f atm_9s_1txwivl atm_h_1h6ojuz dir dir-ltr\"><svg xmlns=\"http://www.w3.org/2000/svg\" viewBox=\"0 0 32 32\" aria-hidden=\"true\" role=\"presentation\" focusable=\"false\" style=\"display: block; height: 24px; width: 24px; fill: currentcolor;\"><path d=\"M25 1a3 3 0 0 1 3 2.82V26a3 3 0 0 1-2.82 3H25v2h-2v-2H9v2H7v-2a3 3 0 0 1-3-2.82V4a3 3 0 0 1 2.82-3H25zm1 20H6v5a1 1 0 0 0 .88 1H25a1 1 0 0 0 1-.88V21zm-10 2a1 1 0 1 1 0 2 1 1 0 0 1 0-2zm9-20h-8v16h9V4a1 1 0 0 0-.88-1H25zM15 3H7a1 1 0 0 0-1 .88V19h9V3zm-3 8a1 1 0 1 1 0 2 1 1 0 0 1 0-2zm8 0a1 1 0 1 1 0 2 1 1 0 0 1 0-2z\"></path></svg></div></div><div class=\"m1ec1bsa atm_9s_1txwivl atm_ar_1bp4okc atm_fc_1h6ojuz atm_am_ggq5uc atm_vy_1osqo2v dir dir-ltr\"><div id=\"pdp_v3_bedroom_laundry_671_36142513-0-row-title\" class=\"twad414 atm_7l_18pqv07 atm_9j_1kw7nm4 atm_bx_1ltc5j7 atm_c8_8ycq01 atm_g3_adnk3f atm_fr_rvubnj dir dir-ltr\">Espacio para guardar la ropa</div></div></div></div><div class=\"_1wadwfl\"></div></li></ul></div><div class=\"_11jhslp\"><div class=\"_87jbxlz\"><h3 tabindex=\"-1\" class=\"hpipapi atm_7l_1kw7nm4 atm_c8_1x4eueo atm_cs_1kw7nm4 atm_g3_1kw7nm4 atm_gi_idpfg4 atm_l8_idpfg4 atm_kd_idpfg4_pfnrn2 dir dir-ltr\" elementtiming=\"LCP-target\">Entretenimiento</h3></div><ul class=\"_2f5j8p\" role=\"list\"><li><div id=\"pdp_v3_entertainment_1_36142513-0\" class=\"rten07p atm_lo_1tcgj5g atm_le_1tcgj5g atm_5j_t94yts dir dir-ltr\"><div class=\"f16mr5nx atm_9s_1txwivl dir dir-ltr\"><div class=\"lhg7v4y atm_h0_exct8b dir dir-ltr\"><div class=\"i12mny15 atm_j6_adnk3f atm_9s_1txwivl atm_h_1h6ojuz dir dir-ltr\"><svg xmlns=\"http://www.w3.org/2000/svg\" viewBox=\"0 0 32 32\" aria-hidden=\"true\" role=\"presentation\" focusable=\"false\" style=\"display: block; height: 24px; width: 24px; fill: currentcolor;\"><path d=\"M9 29v-2h2v-2H6a5 5 0 0 1-5-4.78V8a5 5 0 0 1 4.78-5H26a5 5 0 0 1 5 4.78V20a5 5 0 0 1-4.78 5H21v2h2v2zm10-4h-6v2h6zm7-20H6a3 3 0 0 0-3 2.82V20a3 3 0 0 0 2.82 3H26a3 3 0 0 0 3-2.82V8a3 3 0 0 0-2.82-3z\"></path></svg></div></div><div class=\"m1ec1bsa atm_9s_1txwivl atm_ar_1bp4okc atm_fc_1h6ojuz atm_am_ggq5uc atm_vy_1osqo2v dir dir-ltr\"><div id=\"pdp_v3_entertainment_1_36142513-0-row-title\" class=\"twad414 atm_7l_18pqv07 atm_9j_1kw7nm4 atm_bx_1ltc5j7 atm_c8_8ycq01 atm_g3_adnk3f atm_fr_rvubnj dir dir-ltr\">TV</div></div></div></div><div class=\"_1wadwfl\"></div></li></ul></div><div class=\"_11jhslp\"><div class=\"_87jbxlz\"><h3 tabindex=\"-1\" class=\"hpipapi atm_7l_1kw7nm4 atm_c8_1x4eueo atm_cs_1kw7nm4 atm_g3_1kw7nm4 atm_gi_idpfg4 atm_l8_idpfg4 atm_kd_idpfg4_pfnrn2 dir dir-ltr\" elementtiming=\"LCP-target\">Calefacción y refrigeración</h3></div><ul class=\"_2f5j8p\" role=\"list\"><li><div id=\"pdp_v3_heating_cooling_522_36142513-0\" class=\"rten07p atm_lo_1tcgj5g atm_le_1tcgj5g atm_5j_t94yts dir dir-ltr\"><div class=\"f16mr5nx atm_9s_1txwivl dir dir-ltr\"><div class=\"lhg7v4y atm_h0_exct8b dir dir-ltr\"><div class=\"i12mny15 atm_j6_adnk3f atm_9s_1txwivl atm_h_1h6ojuz dir dir-ltr\"><svg xmlns=\"http://www.w3.org/2000/svg\" viewBox=\"0 0 32 32\" aria-hidden=\"true\" role=\"presentation\" focusable=\"false\" style=\"display: block; height: 24px; width: 24px; fill: currentcolor;\"><path d=\"M16 2a10 10 0 0 1 1 19.95V28h6v2H9v-2h6v-6.05A10 10 0 0 1 16 2zm1.44 12.63a2.98 2.98 0 0 1-1.22.36L16 15v.01a2.51 2.51 0 0 0-2.5 2.52c0 1.17.78 2.16 1.85 2.44a7.99 7.99 0 0 0 6.96-3.05 4.61 4.61 0 0 1-4.87-2.29zM10.52 10a2.52 2.52 0 0 0-2.5 2.16l-.02.1a8 8 0 0 0 3.66 6.46 4.53 4.53 0 0 1-.16-1.19c0-1.59.82-2.99 2.05-3.8a3 3 0 0 1-.46-1l-.05-.24-.01-.12-.03-.3A2.52 2.52 0 0 0 10.52 10zm10.95 5a2.52 2.52 0 0 0 2.47-1.98 8 8 0 0 0-4.24-8.11c.2.5.3 1.05.3 1.62a4.53 4.53 0 0 1-1.7 3.54 3 3 0 0 1 .6 2.68v-.07A2.56 2.56 0 0 0 21.47 15zM16 11a1 1 0 1 0 0 2 1 1 0 0 0 0-2zm-.32-7a8 8 0 0 0-6.77 4.3l.16-.07A4.54 4.54 0 0 1 10.52 8c1.43 0 2.72.67 3.55 1.7A2.98 2.98 0 0 1 16 9a2.52 2.52 0 0 0 2-2.48 2.52 2.52 0 0 0-2.16-2.5l-.16-.01z\"></path></svg></div></div><div class=\"m1ec1bsa atm_9s_1txwivl atm_ar_1bp4okc atm_fc_1h6ojuz atm_am_ggq5uc atm_vy_1osqo2v dir dir-ltr\"><div id=\"pdp_v3_heating_cooling_522_36142513-0-row-title\" class=\"twad414 atm_7l_18pqv07 atm_9j_1kw7nm4 atm_bx_1ltc5j7 atm_c8_8ycq01 atm_g3_adnk3f atm_fr_rvubnj dir dir-ltr\">Ventiladores portátiles</div></div></div></div><div class=\"_1wadwfl\"></div></li><li><div id=\"pdp_v3_heating_cooling_30_36142513-0\" class=\"rten07p atm_lo_1tcgj5g atm_le_1tcgj5g atm_5j_t94yts dir dir-ltr\"><div class=\"f16mr5nx atm_9s_1txwivl dir dir-ltr\"><div class=\"lhg7v4y atm_h0_exct8b dir dir-ltr\"><div class=\"i12mny15 atm_j6_adnk3f atm_9s_1txwivl atm_h_1h6ojuz dir dir-ltr\"><svg xmlns=\"http://www.w3.org/2000/svg\" viewBox=\"0 0 32 32\" aria-hidden=\"true\" role=\"presentation\" focusable=\"false\" style=\"display: block; height: 24px; width: 24px; fill: currentcolor;\"><path d=\"M16 0a5 5 0 0 1 5 4.78v12.98l.26.21a7.98 7.98 0 0 1 2.72 5.43l.02.3v.3a8 8 0 1 1-13.25-6.04l.25-.2V5A5 5 0 0 1 15.56.02l.22-.01zm0 2a3 3 0 0 0-3 2.82V18.78l-.43.3a6 6 0 1 0 7.06.15l-.2-.16-.43-.3V11h-4V9h4V7h-4V5h4a3 3 0 0 0-3-3zm1 11v7.13A4 4 0 0 1 16 28a4 4 0 0 1-1-7.87V13zm-1 9a2 2 0 1 0 0 4 2 2 0 0 0 0-4z\"></path></svg></div></div><div class=\"m1ec1bsa atm_9s_1txwivl atm_ar_1bp4okc atm_fc_1h6ojuz atm_am_ggq5uc atm_vy_1osqo2v dir dir-ltr\"><div id=\"pdp_v3_heating_cooling_30_36142513-0-row-title\" class=\"twad414 atm_7l_18pqv07 atm_9j_1kw7nm4 atm_bx_1ltc5j7 atm_c8_8ycq01 atm_g3_adnk3f atm_fr_rvubnj dir dir-ltr\">Calefacción</div></div></div></div><div class=\"_1wadwfl\"></div></li></ul></div><div class=\"_11jhslp\"><div class=\"_87jbxlz\"><h3 tabindex=\"-1\" class=\"hpipapi atm_7l_1kw7nm4 atm_c8_1x4eueo atm_cs_1kw7nm4 atm_g3_1kw7nm4 atm_gi_idpfg4 atm_l8_idpfg4 atm_kd_idpfg4_pfnrn2 dir dir-ltr\" elementtiming=\"LCP-target\">Seguridad en el hogar</h3></div><ul class=\"_2f5j8p\" role=\"list\"><li><div id=\"pdp_v3_home_safety_37_36142513-0\" class=\"rten07p atm_lo_1tcgj5g atm_le_1tcgj5g atm_5j_t94yts dir dir-ltr\"><div class=\"f16mr5nx atm_9s_1txwivl dir dir-ltr\"><div class=\"lhg7v4y atm_h0_exct8b dir dir-ltr\"><div class=\"i12mny15 atm_j6_adnk3f atm_9s_1txwivl atm_h_1h6ojuz dir dir-ltr\"><svg xmlns=\"http://www.w3.org/2000/svg\" viewBox=\"0 0 32 32\" aria-hidden=\"true\" role=\"presentation\" focusable=\"false\" style=\"display: block; height: 24px; width: 24px; fill: currentcolor;\"><path d=\"M26 3a5 5 0 0 1 5 4.78V24a5 5 0 0 1-4.78 5H6a5 5 0 0 1-5-4.78V8a5 5 0 0 1 4.78-5H6zm0 2H6a3 3 0 0 0-3 2.82V24a3 3 0 0 0 2.82 3H26a3 3 0 0 0 3-2.82V8a3 3 0 0 0-2.82-3zm-7 4v4h4v6h-4v4h-6v-4H9v-6h4V9zm-2 2h-2v4h-4v2h4v4h2v-4h4v-2h-4z\"></path></svg></div></div><div class=\"m1ec1bsa atm_9s_1txwivl atm_ar_1bp4okc atm_fc_1h6ojuz atm_am_ggq5uc atm_vy_1osqo2v dir dir-ltr\"><div id=\"pdp_v3_home_safety_37_36142513-0-row-title\" class=\"twad414 atm_7l_18pqv07 atm_9j_1kw7nm4 atm_bx_1ltc5j7 atm_c8_8ycq01 atm_g3_adnk3f atm_fr_rvubnj dir dir-ltr\">Botiquín</div></div></div></div><div class=\"_1wadwfl\"></div></li></ul></div><div class=\"_11jhslp\"><div class=\"_87jbxlz\"><h3 tabindex=\"-1\" class=\"hpipapi atm_7l_1kw7nm4 atm_c8_1x4eueo atm_cs_1kw7nm4 atm_g3_1kw7nm4 atm_gi_idpfg4 atm_l8_idpfg4 atm_kd_idpfg4_pfnrn2 dir dir-ltr\" elementtiming=\"LCP-target\">Internet y oficina</h3></div><ul class=\"_2f5j8p\" role=\"list\"><li><div id=\"pdp_v3_internet_office_4_36142513-0\" class=\"rten07p atm_lo_1tcgj5g atm_le_1tcgj5g atm_5j_t94yts dir dir-ltr\"><div class=\"f16mr5nx atm_9s_1txwivl dir dir-ltr\"><div class=\"lhg7v4y atm_h0_exct8b dir dir-ltr\"><div class=\"i12mny15 atm_j6_adnk3f atm_9s_1txwivl atm_h_1h6ojuz dir dir-ltr\"><svg xmlns=\"http://www.w3.org/2000/svg\" viewBox=\"0 0 32 32\" aria-hidden=\"true\" role=\"presentation\" focusable=\"false\" style=\"display: block; height: 24px; width: 24px; fill: currentcolor;\"><path d=\"M16 20.33a3.67 3.67 0 1 1 0 7.34 3.67 3.67 0 0 1 0-7.34zm0 2a1.67 1.67 0 1 0 0 3.34 1.67 1.67 0 0 0 0-3.34zM16 15a9 9 0 0 1 8.04 4.96l-1.51 1.51a7 7 0 0 0-13.06 0l-1.51-1.51A9 9 0 0 1 16 15zm0-5.33c4.98 0 9.37 2.54 11.94 6.4l-1.45 1.44a12.33 12.33 0 0 0-20.98 0l-1.45-1.45A14.32 14.32 0 0 1 16 9.66zm0-5.34c6.45 0 12.18 3.1 15.76 7.9l-1.43 1.44a17.64 17.64 0 0 0-28.66 0L.24 12.24c3.58-4.8 9.3-7.9 15.76-7.9z\"></path></svg></div></div><div class=\"m1ec1bsa atm_9s_1txwivl atm_ar_1bp4okc atm_fc_1h6ojuz atm_am_ggq5uc atm_vy_1osqo2v dir dir-ltr\"><div id=\"pdp_v3_internet_office_4_36142513-0-row-title\" class=\"twad414 atm_7l_18pqv07 atm_9j_1kw7nm4 atm_bx_1ltc5j7 atm_c8_8ycq01 atm_g3_adnk3f atm_fr_rvubnj dir dir-ltr\">Wifi</div></div></div></div><div class=\"_1wadwfl\"></div></li><li><div id=\"pdp_v3_internet_office_47_36142513-0\" class=\"rten07p atm_lo_1tcgj5g atm_le_1tcgj5g atm_5j_t94yts dir dir-ltr\"><div class=\"f16mr5nx atm_9s_1txwivl dir dir-ltr\"><div class=\"lhg7v4y atm_h0_exct8b dir dir-ltr\"><div class=\"i12mny15 atm_j6_adnk3f atm_9s_1txwivl atm_h_1h6ojuz dir dir-ltr\"><svg xmlns=\"http://www.w3.org/2000/svg\" viewBox=\"0 0 32 32\" aria-hidden=\"true\" role=\"presentation\" focusable=\"false\" style=\"display: block; height: 24px; width: 24px; fill: currentcolor;\"><path d=\"M26 2a1 1 0 0 1 .92.61l.04.12 2 7a1 1 0 0 1-.85 1.26L28 11h-3v5h6v2h-2v13h-2v-2.54a3.98 3.98 0 0 1-1.73.53L25 29H7a3.98 3.98 0 0 1-2-.54V31H3V18H1v-2h5v-4a1 1 0 0 1 .88-1h.36L6.09 8.4l1.82-.8L9.43 11H12a1 1 0 0 1 1 .88V16h10v-5h-3a1 1 0 0 1-.99-1.16l.03-.11 2-7a1 1 0 0 1 .84-.72L22 2h4zm1 16H5v7a2 2 0 0 0 1.7 1.98l.15.01L7 27h18a2 2 0 0 0 2-1.85V18zm-16-5H8v3h3v-3zm14.24-9h-2.49l-1.43 5h5.35l-1.43-5z\"></path></svg></div></div><div class=\"m1ec1bsa atm_9s_1txwivl atm_ar_1bp4okc atm_fc_1h6ojuz atm_am_ggq5uc atm_vy_1osqo2v dir dir-ltr\"><div id=\"pdp_v3_internet_office_47_36142513-0-row-title\" class=\"twad414 atm_7l_18pqv07 atm_9j_1kw7nm4 atm_bx_1ltc5j7 atm_c8_8ycq01 atm_g3_adnk3f atm_fr_rvubnj dir dir-ltr\">Zona para trabajar</div></div></div></div><div class=\"_1wadwfl\"></div></li></ul></div><div class=\"_11jhslp\"><div class=\"_87jbxlz\"><h3 tabindex=\"-1\" class=\"hpipapi atm_7l_1kw7nm4 atm_c8_1x4eueo atm_cs_1kw7nm4 atm_g3_1kw7nm4 atm_gi_idpfg4 atm_l8_idpfg4 atm_kd_idpfg4_pfnrn2 dir dir-ltr\" elementtiming=\"LCP-target\">Cocina y comedor</h3></div><ul class=\"_2f5j8p\" role=\"list\"><li><div id=\"pdp_v3_kitchen_dining_8_36142513-0\" class=\"rten07p atm_lo_1tcgj5g atm_le_1tcgj5g atm_5j_t94yts dir dir-ltr\"><div class=\"f16mr5nx atm_9s_1txwivl dir dir-ltr\"><div class=\"lhg7v4y atm_h0_exct8b dir dir-ltr\"><div class=\"i12mny15 atm_j6_adnk3f atm_9s_1txwivl atm_h_1h6ojuz dir dir-ltr\"><svg xmlns=\"http://www.w3.org/2000/svg\" viewBox=\"0 0 32 32\" aria-hidden=\"true\" role=\"presentation\" focusable=\"false\" style=\"display: block; height: 24px; width: 24px; fill: currentcolor;\"><path d=\"M26 1a5 5 0 0 1 5 5c0 6.39-1.6 13.19-4 14.7V31h-2V20.7c-2.36-1.48-3.94-8.07-4-14.36v-.56A5 5 0 0 1 26 1zm-9 0v18.12c2.32.55 4 3 4 5.88 0 3.27-2.18 6-5 6s-5-2.73-5-6c0-2.87 1.68-5.33 4-5.88V1zM2 1h1c4.47 0 6.93 6.37 7 18.5V21H4v10H2zm14 20c-1.6 0-3 1.75-3 4s1.4 4 3 4 3-1.75 3-4-1.4-4-3-4zM4 3.24V19h4l-.02-.96-.03-.95C7.67 9.16 6.24 4.62 4.22 3.36L4.1 3.3zm19 2.58v.49c.05 4.32 1.03 9.13 2 11.39V3.17a3 3 0 0 0-2 2.65zm4-2.65V17.7c.99-2.31 2-7.3 2-11.7a3 3 0 0 0-2-2.83z\"></path></svg></div></div><div class=\"m1ec1bsa atm_9s_1txwivl atm_ar_1bp4okc atm_fc_1h6ojuz atm_am_ggq5uc atm_vy_1osqo2v dir dir-ltr\"><div id=\"pdp_v3_kitchen_dining_8_36142513-0-row-title\" class=\"twad414 atm_7l_18pqv07 atm_9j_1kw7nm4 atm_bx_1ltc5j7 atm_c8_8ycq01 atm_g3_adnk3f atm_fr_rvubnj dir dir-ltr\">Cocina</div><div class=\"s9gst5p atm_7l_12u4tyr atm_h3_1y44olf atm_bx_1ltc5j7 atm_w4_1hnarqo atm_c8_fkimz8 atm_g3_11yl58k atm_fr_4ym3tx dir dir-ltr\">Cocina disponible para el uso de los huéspedes</div></div></div></div><div class=\"_1wadwfl\"></div></li><li><div id=\"pdp_v3_kitchen_dining_91_36142513-0\" class=\"rten07p atm_lo_1tcgj5g atm_le_1tcgj5g atm_5j_t94yts dir dir-ltr\"><div class=\"f16mr5nx atm_9s_1txwivl dir dir-ltr\"><div class=\"lhg7v4y atm_h0_exct8b dir dir-ltr\"><div class=\"i12mny15 atm_j6_adnk3f atm_9s_1txwivl atm_h_1h6ojuz dir dir-ltr\"><svg xmlns=\"http://www.w3.org/2000/svg\" viewBox=\"0 0 32 32\" aria-hidden=\"true\" role=\"presentation\" focusable=\"false\" style=\"display: block; height: 24px; width: 24px; fill: currentcolor;\"><path d=\"M25 1a2 2 0 0 1 2 1.85V29a2 2 0 0 1-1.85 2H7a2 2 0 0 1-2-1.85V3a2 2 0 0 1 1.85-2H7zm0 10H7v18h18zm-15 2a1 1 0 1 1 0 2 1 1 0 0 1 0-2zM25 3H7v6h18zM10 5a1 1 0 1 1 0 2 1 1 0 0 1 0-2z\"></path></svg></div></div><div class=\"m1ec1bsa atm_9s_1txwivl atm_ar_1bp4okc atm_fc_1h6ojuz atm_am_ggq5uc atm_vy_1osqo2v dir dir-ltr\"><div id=\"pdp_v3_kitchen_dining_91_36142513-0-row-title\" class=\"twad414 atm_7l_18pqv07 atm_9j_1kw7nm4 atm_bx_1ltc5j7 atm_c8_8ycq01 atm_g3_adnk3f atm_fr_rvubnj dir dir-ltr\">Frigorífico</div></div></div></div><div class=\"_1wadwfl\"></div></li><li><div id=\"pdp_v3_kitchen_dining_89_36142513-0\" class=\"rten07p atm_lo_1tcgj5g atm_le_1tcgj5g atm_5j_t94yts dir dir-ltr\"><div class=\"f16mr5nx atm_9s_1txwivl dir dir-ltr\"><div class=\"lhg7v4y atm_h0_exct8b dir dir-ltr\"><div class=\"i12mny15 atm_j6_adnk3f atm_9s_1txwivl atm_h_1h6ojuz dir dir-ltr\"><svg xmlns=\"http://www.w3.org/2000/svg\" viewBox=\"0 0 32 32\" aria-hidden=\"true\" role=\"presentation\" focusable=\"false\" style=\"display: block; height: 24px; width: 24px; fill: currentcolor;\"><path d=\"M29 3a2 2 0 0 1 2 1.85V27a2 2 0 0 1-1.85 2H3a2 2 0 0 1-2-1.85V5a2 2 0 0 1 1.85-2H3zm0 2H3v22h26zm-6 2v18H5V7zm-2 2H7v14h3a4.97 4.97 0 0 1-1-2.72V17h10v3a4.98 4.98 0 0 1-1 3h3zm-4 10h-6v1a3 3 0 0 0 2.65 2.98l.17.01.18.01a3 3 0 0 0 3-2.82V20zm9-8a1 1 0 1 1 0 2 1 1 0 0 1 0-2zm0-4a1 1 0 1 1 0 2 1 1 0 0 1 0-2z\"></path></svg></div></div><div class=\"m1ec1bsa atm_9s_1txwivl atm_ar_1bp4okc atm_fc_1h6ojuz atm_am_ggq5uc atm_vy_1osqo2v dir dir-ltr\"><div id=\"pdp_v3_kitchen_dining_89_36142513-0-row-title\" class=\"twad414 atm_7l_18pqv07 atm_9j_1kw7nm4 atm_bx_1ltc5j7 atm_c8_8ycq01 atm_g3_adnk3f atm_fr_rvubnj dir dir-ltr\">Microondas</div></div></div></div><div class=\"_1wadwfl\"></div></li><li><div id=\"pdp_v3_kitchen_dining_94_36142513-0\" class=\"rten07p atm_lo_1tcgj5g atm_le_1tcgj5g atm_5j_t94yts dir dir-ltr\"><div class=\"f16mr5nx atm_9s_1txwivl dir dir-ltr\"><div class=\"lhg7v4y atm_h0_exct8b dir dir-ltr\"><div class=\"i12mny15 atm_j6_adnk3f atm_9s_1txwivl atm_h_1h6ojuz dir dir-ltr\"><svg xmlns=\"http://www.w3.org/2000/svg\" viewBox=\"0 0 32 32\" aria-hidden=\"true\" role=\"presentation\" focusable=\"false\" style=\"display: block; height: 24px; width: 24px; fill: currentcolor;\"><path d=\"M26 1a5 5 0 0 1 5 5c0 6.39-1.6 13.19-4 14.7V31h-2V20.7c-2.36-1.48-3.94-8.07-4-14.36v-.56A5 5 0 0 1 26 1zm-9 0v18.12c2.32.55 4 3 4 5.88 0 3.27-2.18 6-5 6s-5-2.73-5-6c0-2.87 1.68-5.33 4-5.88V1zM2 1h1c4.47 0 6.93 6.37 7 18.5V21H4v10H2zm14 20c-1.6 0-3 1.75-3 4s1.4 4 3 4 3-1.75 3-4-1.4-4-3-4zM4 3.24V19h4l-.02-.96-.03-.95C7.67 9.16 6.24 4.62 4.22 3.36L4.1 3.3zm19 2.58v.49c.05 4.32 1.03 9.13 2 11.39V3.17a3 3 0 0 0-2 2.65zm4-2.65V17.7c.99-2.31 2-7.3 2-11.7a3 3 0 0 0-2-2.83z\"></path></svg></div></div><div class=\"m1ec1bsa atm_9s_1txwivl atm_ar_1bp4okc atm_fc_1h6ojuz atm_am_ggq5uc atm_vy_1osqo2v dir dir-ltr\"><div id=\"pdp_v3_kitchen_dining_94_36142513-0-row-title\" class=\"twad414 atm_7l_18pqv07 atm_9j_1kw7nm4 atm_bx_1ltc5j7 atm_c8_8ycq01 atm_g3_adnk3f atm_fr_rvubnj dir dir-ltr\">Utensilios básicos de cocina</div><div class=\"s9gst5p atm_7l_12u4tyr atm_h3_1y44olf atm_bx_1ltc5j7 atm_w4_1hnarqo atm_c8_fkimz8 atm_g3_11yl58k atm_fr_4ym3tx dir dir-ltr\">Cazuelas y sartenes, aceite, sal y pimienta</div></div></div></div><div class=\"_1wadwfl\"></div></li><li><div id=\"pdp_v3_kitchen_dining_93_36142513-0\" class=\"rten07p atm_lo_1tcgj5g atm_le_1tcgj5g atm_5j_t94yts dir dir-ltr\"><div class=\"f16mr5nx atm_9s_1txwivl dir dir-ltr\"><div class=\"lhg7v4y atm_h0_exct8b dir dir-ltr\"><div class=\"i12mny15 atm_j6_adnk3f atm_9s_1txwivl atm_h_1h6ojuz dir dir-ltr\"><svg xmlns=\"http://www.w3.org/2000/svg\" viewBox=\"0 0 32 32\" aria-hidden=\"true\" role=\"presentation\" focusable=\"false\" style=\"display: block; height: 24px; width: 24px; fill: currentcolor;\"><path d=\"M29 1v2a13 13 0 0 0-.3 26h.3v2a15 15 0 0 1-.31-30zM3 1h2v6h2V1h2v6h2V1h2v9a5 5 0 0 1-4 4.9V31H7V14.9a5.01 5.01 0 0 1-3.98-4.44L3 10.22V10zm26 6v2a7 7 0 0 0-.24 14H29v2a9 9 0 0 1-.27-18zM11 9H5v1.15a3 3 0 0 0 6 .03V10z\"></path></svg></div></div><div class=\"m1ec1bsa atm_9s_1txwivl atm_ar_1bp4okc atm_fc_1h6ojuz atm_am_ggq5uc atm_vy_1osqo2v dir dir-ltr\"><div id=\"pdp_v3_kitchen_dining_93_36142513-0-row-title\" class=\"twad414 atm_7l_18pqv07 atm_9j_1kw7nm4 atm_bx_1ltc5j7 atm_c8_8ycq01 atm_g3_adnk3f atm_fr_rvubnj dir dir-ltr\">Platos y cubiertos</div><div class=\"s9gst5p atm_7l_12u4tyr atm_h3_1y44olf atm_bx_1ltc5j7 atm_w4_1hnarqo atm_c8_fkimz8 atm_g3_11yl58k atm_fr_4ym3tx dir dir-ltr\">Cuencos, palillos, platos, tazas, etc.</div></div></div></div><div class=\"_1wadwfl\"></div></li><li><div id=\"pdp_v3_kitchen_dining_96_36142513-0\" class=\"rten07p atm_lo_1tcgj5g atm_le_1tcgj5g atm_5j_t94yts dir dir-ltr\"><div class=\"f16mr5nx atm_9s_1txwivl dir dir-ltr\"><div class=\"lhg7v4y atm_h0_exct8b dir dir-ltr\"><div class=\"i12mny15 atm_j6_adnk3f atm_9s_1txwivl atm_h_1h6ojuz dir dir-ltr\"><svg xmlns=\"http://www.w3.org/2000/svg\" viewBox=\"0 0 32 32\" aria-hidden=\"true\" role=\"presentation\" focusable=\"false\" style=\"display: block; height: 24px; width: 24px; fill: currentcolor;\"><path d=\"M27 0a2 2 0 0 1 2 1.85V28a2 2 0 0 1-1.85 2H5a2 2 0 0 1-2-1.85V2a2 2 0 0 1 1.85-2H5zm0 2H5v26h22zm-3 22a1 1 0 1 1 0 2 1 1 0 0 1 0-2zm-5.33 0a1 1 0 1 1 0 2 1 1 0 0 1 0-2zm-5.34 0a1 1 0 1 1 0 2 1 1 0 0 1 0-2zM8 24a1 1 0 1 1 0 2 1 1 0 0 1 0-2zm13-10a4 4 0 1 1 0 8 4 4 0 0 1 0-8zm-10 0a4 4 0 1 1 0 8 4 4 0 0 1 0-8zm10 2a2 2 0 1 0 0 4 2 2 0 0 0 0-4zm-10 0a2 2 0 1 0 0 4 2 2 0 0 0 0-4zM21 4a4 4 0 1 1 0 8 4 4 0 0 1 0-8zM11 4a4 4 0 1 1 0 8 4 4 0 0 1 0-8zm10 2a2 2 0 1 0 0 4 2 2 0 0 0 0-4zM11 6a2 2 0 1 0 0 4 2 2 0 0 0 0-4z\"></path></svg></div></div><div class=\"m1ec1bsa atm_9s_1txwivl atm_ar_1bp4okc atm_fc_1h6ojuz atm_am_ggq5uc atm_vy_1osqo2v dir dir-ltr\"><div id=\"pdp_v3_kitchen_dining_96_36142513-0-row-title\" class=\"twad414 atm_7l_18pqv07 atm_9j_1kw7nm4 atm_bx_1ltc5j7 atm_c8_8ycq01 atm_g3_adnk3f atm_fr_rvubnj dir dir-ltr\">Cocina de inducción</div></div></div></div><div class=\"_1wadwfl\"></div></li><li><div id=\"pdp_v3_kitchen_dining_95_36142513-0\" class=\"rten07p atm_lo_1tcgj5g atm_le_1tcgj5g atm_5j_t94yts dir dir-ltr\"><div class=\"f16mr5nx atm_9s_1txwivl dir dir-ltr\"><div class=\"lhg7v4y atm_h0_exct8b dir dir-ltr\"><div class=\"i12mny15 atm_j6_adnk3f atm_9s_1txwivl atm_h_1h6ojuz dir dir-ltr\"><svg xmlns=\"http://www.w3.org/2000/svg\" viewBox=\"0 0 32 32\" aria-hidden=\"true\" role=\"presentation\" focusable=\"false\" style=\"display: block; height: 24px; width: 24px; fill: currentcolor;\"><path d=\"M28 2a2 2 0 0 1 2 1.85V28a2 2 0 0 1-1.85 2H4a2 2 0 0 1-2-1.85V4a2 2 0 0 1 1.85-2H4zm0 10H4v16h24zm-2 2v12H6V14zm-2 2H8v8h16zm4-12H4v6h24zm-3 2a1 1 0 1 1 0 2 1 1 0 0 1 0-2zm-6 0a1 1 0 1 1 0 2 1 1 0 0 1 0-2zm-6 0a1 1 0 1 1 0 2 1 1 0 0 1 0-2zM7 6a1 1 0 1 1 0 2 1 1 0 0 1 0-2z\"></path></svg></div></div><div class=\"m1ec1bsa atm_9s_1txwivl atm_ar_1bp4okc atm_fc_1h6ojuz atm_am_ggq5uc atm_vy_1osqo2v dir dir-ltr\"><div id=\"pdp_v3_kitchen_dining_95_36142513-0-row-title\" class=\"twad414 atm_7l_18pqv07 atm_9j_1kw7nm4 atm_bx_1ltc5j7 atm_c8_8ycq01 atm_g3_adnk3f atm_fr_rvubnj dir dir-ltr\">Horno</div></div></div></div><div class=\"_1wadwfl\"></div></li><li><div id=\"pdp_v3_kitchen_dining_90_36142513-0\" class=\"rten07p atm_lo_1tcgj5g atm_le_1tcgj5g atm_5j_t94yts dir dir-ltr\"><div class=\"f16mr5nx atm_9s_1txwivl dir dir-ltr\"><div class=\"lhg7v4y atm_h0_exct8b dir dir-ltr\"><div class=\"i12mny15 atm_j6_adnk3f atm_9s_1txwivl atm_h_1h6ojuz dir dir-ltr\"><svg xmlns=\"http://www.w3.org/2000/svg\" viewBox=\"0 0 32 32\" aria-hidden=\"true\" role=\"presentation\" focusable=\"false\" style=\"display: block; height: 24px; width: 24px; fill: currentcolor;\"><path d=\"M25 2a1 1 0 0 1 .94.65l.03.1 1 4A1 1 0 0 1 26.11 8L26 8h-9v2h-2V8H5v20h3a5 5 0 0 1-.72-4.66l.1-.26 2.52-6.04-1.8-3.6a1 1 0 0 1 .78-1.43L9 12h14a1 1 0 0 1 .94 1.34l-.05.1L22.62 16H24a5 5 0 0 1 5 4.78V25h-2v-4a3 3 0 0 0-2.82-3H22.5l2.12 5.08A5 5 0 0 1 24 28h3v2H4a1 1 0 0 1-1-.88V3a1 1 0 0 1 .88-1H4zM12.65 22a6.64 6.64 0 0 0-2.91.63l-.5 1.22a3 3 0 0 0-.2.68l-.03.23L9 25a3 3 0 0 0 2.82 3h8.19l.23-.01a3 3 0 0 0 2.6-2.02c-1.7-.12-2.93-.67-4.84-1.9l-.37-.23c-2.14-1.4-3.18-1.84-4.98-1.84zm7.68-4h-8.66l-.92 2.19a9.06 9.06 0 0 1 1.9-.19c2.19 0 3.51.52 5.75 1.95l.38.25c1.74 1.13 2.74 1.62 4.03 1.76l-.04-.11zm1.05-4H10.62l1 2h8.76zm2.84-10H5v2h19.72z\"></path></svg></div></div><div class=\"m1ec1bsa atm_9s_1txwivl atm_ar_1bp4okc atm_fc_1h6ojuz atm_am_ggq5uc atm_vy_1osqo2v dir dir-ltr\"><div id=\"pdp_v3_kitchen_dining_90_36142513-0-row-title\" class=\"twad414 atm_7l_18pqv07 atm_9j_1kw7nm4 atm_bx_1ltc5j7 atm_c8_8ycq01 atm_g3_adnk3f atm_fr_rvubnj dir dir-ltr\">Cafetera</div></div></div></div><div class=\"_1wadwfl\"></div></li><li><div id=\"pdp_v3_kitchen_dining_672_36142513-0\" class=\"rten07p atm_lo_1tcgj5g atm_le_1tcgj5g atm_5j_t94yts dir dir-ltr\"><div class=\"f16mr5nx atm_9s_1txwivl dir dir-ltr\"><div class=\"lhg7v4y atm_h0_exct8b dir dir-ltr\"><div class=\"i12mny15 atm_j6_adnk3f atm_9s_1txwivl atm_h_1h6ojuz dir dir-ltr\"><svg xmlns=\"http://www.w3.org/2000/svg\" viewBox=\"0 0 32 32\" aria-hidden=\"true\" role=\"presentation\" focusable=\"false\" style=\"display: block; height: 24px; width: 24px; fill: currentcolor;\"><path d=\"m9.24 3-.2.4a20.37 20.37 0 0 0-1.7 5.02v.03A9 9 0 0 1 10.16 8c2.26 0 4.44.84 6.12 2.4l.24.24a6.98 6.98 0 0 0 4.95 2.05 6.99 6.99 0 0 0 3.53-.95v-.23a19.57 19.57 0 0 0-2.04-8.1l-.2-.41H9.24zm.92 7a7 7 0 0 0-3.11.73C7 11.15 7 11.57 7 12a9 9 0 0 0 9 9c4.06 0 7.7-3.14 8.72-6.92a9 9 0 0 1-3.25.6 8.98 8.98 0 0 1-6.13-2.4l-.23-.23A6.97 6.97 0 0 0 10.16 10zm13.8-9 .29.52A21.78 21.78 0 0 1 27 12c0 5.4-4.53 10.4-10 10.95V29h6v2H9v-2h6v-6.04A11 11 0 0 1 5 12c0-3.6.92-7.09 2.75-10.48L8.04 1h15.92z\"></path></svg></div></div><div class=\"m1ec1bsa atm_9s_1txwivl atm_ar_1bp4okc atm_fc_1h6ojuz atm_am_ggq5uc atm_vy_1osqo2v dir dir-ltr\"><div id=\"pdp_v3_kitchen_dining_672_36142513-0-row-title\" class=\"twad414 atm_7l_18pqv07 atm_9j_1kw7nm4 atm_bx_1ltc5j7 atm_c8_8ycq01 atm_g3_adnk3f atm_fr_rvubnj dir dir-ltr\">Copas de vino</div></div></div></div><div class=\"_1wadwfl\"></div></li><li><div id=\"pdp_v3_kitchen_dining_251_36142513-0\" class=\"rten07p atm_lo_1tcgj5g atm_le_1tcgj5g atm_5j_t94yts dir dir-ltr\"><div class=\"f16mr5nx atm_9s_1txwivl dir dir-ltr\"><div class=\"lhg7v4y atm_h0_exct8b dir dir-ltr\"><div class=\"i12mny15 atm_j6_adnk3f atm_9s_1txwivl atm_h_1h6ojuz dir dir-ltr\"><svg xmlns=\"http://www.w3.org/2000/svg\" viewBox=\"0 0 32 32\" aria-hidden=\"true\" role=\"presentation\" focusable=\"false\" style=\"display: block; height: 24px; width: 24px; fill: currentcolor;\"><path d=\"M20.93 2a3.93 3.93 0 0 1 3.93 3.93c0 .87-.29 1.7-.83 2.4l-.03.04V10a5 5 0 0 1 5 4.78V27a2 2 0 0 1-1.85 2H26v1h-2v-1H8v1H6v-1H5a2 2 0 0 1-2-1.85V17H1v-2h2a5 5 0 0 1 4.78-5H8V8.38a3.93 3.93 0 0 1 0-4.9l.14-.17.15-.16a3.93 3.93 0 0 1 2.56-1.14l.22-.01h9.86zM24 12H8a3 3 0 0 0-3 2.82V27h22V15a3 3 0 0 0-2.82-3H24zM8 23a1 1 0 1 1 0 2 1 1 0 0 1 0-2zM20.93 4h-9.86a1.93 1.93 0 0 0-1.36 3.3 1 1 0 0 1 .28.57L10 8v2h12V8a1 1 0 0 1 .12-.48l.07-.1.08-.1.12-.13a1.93 1.93 0 0 0-1.31-3.18L20.93 4z\"></path></svg></div></div><div class=\"m1ec1bsa atm_9s_1txwivl atm_ar_1bp4okc atm_fc_1h6ojuz atm_am_ggq5uc atm_vy_1osqo2v dir dir-ltr\"><div id=\"pdp_v3_kitchen_dining_251_36142513-0-row-title\" class=\"twad414 atm_7l_18pqv07 atm_9j_1kw7nm4 atm_bx_1ltc5j7 atm_c8_8ycq01 atm_g3_adnk3f atm_fr_rvubnj dir dir-ltr\">Tostadora</div></div></div></div><div class=\"_1wadwfl\"></div></li><li><div id=\"pdp_v3_kitchen_dining_322_36142513-0\" class=\"rten07p atm_lo_1tcgj5g atm_le_1tcgj5g atm_5j_t94yts dir dir-ltr\"><div class=\"f16mr5nx atm_9s_1txwivl dir dir-ltr\"><div class=\"lhg7v4y atm_h0_exct8b dir dir-ltr\"><div class=\"i12mny15 atm_j6_adnk3f atm_9s_1txwivl atm_h_1h6ojuz dir dir-ltr\"><svg xmlns=\"http://www.w3.org/2000/svg\" viewBox=\"0 0 32 32\" aria-hidden=\"true\" role=\"presentation\" focusable=\"false\" style=\"display: block; height: 24px; width: 24px; fill: currentcolor;\"><path d=\"M23 1a1 1 0 0 1 1 .88V6l-.02.2-2.9 14.53a5 5 0 0 1 2.31 3.4l.04.25.56 4.5a1 1 0 0 1-.87 1.11L23 30H9a1 1 0 0 1-1-1v-.12l.57-4.5a5 5 0 0 1 2.36-3.65L8.18 7H7a1 1 0 0 0-1 .88V15H4V8a3 3 0 0 1 2.82-3H8V2a1 1 0 0 1 .88-1H23zm-9.5 21a3 3 0 0 0-2.92 2.45l-.03.18-.42 3.37h11.74l-.42-3.37a3 3 0 0 0-2.62-2.6L18.5 22h-5zm2.5 2a1 1 0 1 1 0 2 1 1 0 0 1 0-2zm5.78-17H10.22l2.6 13H15v-9h2v9h2.18l2.6-13zM22 3H10v2h12V3z\"></path></svg></div></div><div class=\"m1ec1bsa atm_9s_1txwivl atm_ar_1bp4okc atm_fc_1h6ojuz atm_am_ggq5uc atm_vy_1osqo2v dir dir-ltr\"><div id=\"pdp_v3_kitchen_dining_322_36142513-0-row-title\" class=\"twad414 atm_7l_18pqv07 atm_9j_1kw7nm4 atm_bx_1ltc5j7 atm_c8_8ycq01 atm_g3_adnk3f atm_fr_rvubnj dir dir-ltr\">Batidora</div></div></div></div><div class=\"_1wadwfl\"></div></li></ul></div><div class=\"_11jhslp\"><div class=\"_87jbxlz\"><h3 tabindex=\"-1\" class=\"hpipapi atm_7l_1kw7nm4 atm_c8_1x4eueo atm_cs_1kw7nm4 atm_g3_1kw7nm4 atm_gi_idpfg4 atm_l8_idpfg4 atm_kd_idpfg4_pfnrn2 dir dir-ltr\" elementtiming=\"LCP-target\">Características de la ubicación</h3></div><ul class=\"_2f5j8p\" role=\"list\"><li><div id=\"pdp_v3_location_57_36142513-0\" class=\"rten07p atm_lo_1tcgj5g atm_le_1tcgj5g atm_5j_t94yts dir dir-ltr\"><div class=\"f16mr5nx atm_9s_1txwivl dir dir-ltr\"><div class=\"lhg7v4y atm_h0_exct8b dir dir-ltr\"><div class=\"i12mny15 atm_j6_adnk3f atm_9s_1txwivl atm_h_1h6ojuz dir dir-ltr\"><svg xmlns=\"http://www.w3.org/2000/svg\" viewBox=\"0 0 32 32\" aria-hidden=\"true\" role=\"presentation\" focusable=\"false\" style=\"display: block; height: 24px; width: 24px; fill: currentcolor;\"><path d=\"M25 1a2 2 0 0 1 2 1.85V29h2v2H3v-2h2V3a2 2 0 0 1 1.85-2H7zm0 2H7v26h18zm-3 12a1 1 0 1 1 0 2 1 1 0 0 1 0-2z\"></path></svg></div></div><div class=\"m1ec1bsa atm_9s_1txwivl atm_ar_1bp4okc atm_fc_1h6ojuz atm_am_ggq5uc atm_vy_1osqo2v dir dir-ltr\"><div id=\"pdp_v3_location_57_36142513-0-row-title\" class=\"twad414 atm_7l_18pqv07 atm_9j_1kw7nm4 atm_bx_1ltc5j7 atm_c8_8ycq01 atm_g3_adnk3f atm_fr_rvubnj dir dir-ltr\">Entrada independiente</div><div class=\"s9gst5p atm_7l_12u4tyr atm_h3_1y44olf atm_bx_1ltc5j7 atm_w4_1hnarqo atm_c8_fkimz8 atm_g3_11yl58k atm_fr_4ym3tx dir dir-ltr\">Entrada por otra calle o edificio</div></div></div></div><div class=\"_1wadwfl\"></div></li></ul></div><div class=\"_11jhslp\"><div class=\"_87jbxlz\"><h3 tabindex=\"-1\" class=\"hpipapi atm_7l_1kw7nm4 atm_c8_1x4eueo atm_cs_1kw7nm4 atm_g3_1kw7nm4 atm_gi_idpfg4 atm_l8_idpfg4 atm_kd_idpfg4_pfnrn2 dir dir-ltr\" elementtiming=\"LCP-target\">Exterior</h3></div><ul class=\"_2f5j8p\" role=\"list\"><li><div id=\"pdp_v3_outdoor_100_36142513-0\" class=\"rten07p atm_lo_1tcgj5g atm_le_1tcgj5g atm_5j_t94yts dir dir-ltr\"><div class=\"f16mr5nx atm_9s_1txwivl dir dir-ltr\"><div class=\"lhg7v4y atm_h0_exct8b dir dir-ltr\"><div class=\"i12mny15 atm_j6_adnk3f atm_9s_1txwivl atm_h_1h6ojuz dir dir-ltr\"><svg xmlns=\"http://www.w3.org/2000/svg\" viewBox=\"0 0 32 32\" aria-hidden=\"true\" role=\"presentation\" focusable=\"false\" style=\"display: block; height: 24px; width: 24px; fill: currentcolor;\"><path d=\"M23 1a2 2 0 0 1 2 1.85V19h4v2h-2v8h2v2H3v-2h2v-8H3v-2h4V3a2 2 0 0 1 1.85-2H9zM9 21H7v8h2zm4 0h-2v8h2zm4 0h-2v8h2zm4 0h-2v8h2zm4 0h-2v8h2zm-10-8H9v6h6zm8 0h-6v6h6zM15 3H9v8h6zm8 0h-6v8h6z\"></path></svg></div></div><div class=\"m1ec1bsa atm_9s_1txwivl atm_ar_1bp4okc atm_fc_1h6ojuz atm_am_ggq5uc atm_vy_1osqo2v dir dir-ltr\"><div id=\"pdp_v3_outdoor_100_36142513-0-row-title\" class=\"twad414 atm_7l_18pqv07 atm_9j_1kw7nm4 atm_bx_1ltc5j7 atm_c8_8ycq01 atm_g3_adnk3f atm_fr_rvubnj dir dir-ltr\">Patio o balcón</div></div></div></div><div class=\"_1wadwfl\"></div></li></ul></div><div class=\"_11jhslp\"><div class=\"_87jbxlz\"><h3 tabindex=\"-1\" class=\"hpipapi atm_7l_1kw7nm4 atm_c8_1x4eueo atm_cs_1kw7nm4 atm_g3_1kw7nm4 atm_gi_idpfg4 atm_l8_idpfg4 atm_kd_idpfg4_pfnrn2 dir dir-ltr\" elementtiming=\"LCP-target\">Aparcamiento e instalaciones</h3></div><ul class=\"_2f5j8p\" role=\"list\"><li><div id=\"pdp_v3_parking_facilities_21_36142513-0\" class=\"rten07p atm_lo_1tcgj5g atm_le_1tcgj5g atm_5j_t94yts dir dir-ltr\"><div class=\"f16mr5nx atm_9s_1txwivl dir dir-ltr\"><div class=\"lhg7v4y atm_h0_exct8b dir dir-ltr\"><div class=\"i12mny15 atm_j6_adnk3f atm_9s_1txwivl atm_h_1h6ojuz dir dir-ltr\"><svg xmlns=\"http://www.w3.org/2000/svg\" viewBox=\"0 0 32 32\" aria-hidden=\"true\" role=\"presentation\" focusable=\"false\" style=\"display: block; height: 24px; width: 24px; fill: currentcolor;\"><path d=\"M30 1a1 1 0 0 1 1 .88V30a1 1 0 0 1-.88 1H2a1 1 0 0 1-1-.88V2a1 1 0 0 1 .88-1H2zM3 3v26h12V3zm7 9v6.58l1.8-1.79 1.4 1.42-3.5 3.5a1 1 0 0 1-1.31.08l-.1-.08-3.5-3.5 1.42-1.42L8 18.6V12zm12.39-1.5a1 1 0 0 1 1.22 0l.1.09 3.5 3.5-1.42 1.41L24 13.7V20h-2v-6.3l-1.8 1.8-1.4-1.41 3.5-3.5zM17 29h12V3H17z\"></path></svg></div></div><div class=\"m1ec1bsa atm_9s_1txwivl atm_ar_1bp4okc atm_fc_1h6ojuz atm_am_ggq5uc atm_vy_1osqo2v dir dir-ltr\"><div id=\"pdp_v3_parking_facilities_21_36142513-0-row-title\" class=\"twad414 atm_7l_18pqv07 atm_9j_1kw7nm4 atm_bx_1ltc5j7 atm_c8_8ycq01 atm_g3_adnk3f atm_fr_rvubnj dir dir-ltr\">Ascensor</div><div class=\"s9gst5p atm_7l_12u4tyr atm_h3_1y44olf atm_bx_1ltc5j7 atm_w4_1hnarqo atm_c8_fkimz8 atm_g3_11yl58k atm_fr_4ym3tx dir dir-ltr\">El alojamiento o el edificio dispone de ascensor de, al menos, 81&nbsp;cm de profundidad y una entrada de 81&nbsp;cm de ancho.</div></div></div></div><div class=\"_1wadwfl\"></div></li></ul></div><div class=\"_11jhslp\"><div class=\"_87jbxlz\"><h3 tabindex=\"-1\" class=\"hpipapi atm_7l_1kw7nm4 atm_c8_1x4eueo atm_cs_1kw7nm4 atm_g3_1kw7nm4 atm_gi_idpfg4 atm_l8_idpfg4 atm_kd_idpfg4_pfnrn2 dir dir-ltr\" elementtiming=\"LCP-target\">Servicios</h3></div><ul class=\"_2f5j8p\" role=\"list\"><li><div id=\"pdp_v3_services_104_36142513-0\" class=\"rten07p atm_lo_1tcgj5g atm_le_1tcgj5g atm_5j_t94yts dir dir-ltr\"><div class=\"f16mr5nx atm_9s_1txwivl dir dir-ltr\"><div class=\"lhg7v4y atm_h0_exct8b dir dir-ltr\"><div class=\"i12mny15 atm_j6_adnk3f atm_9s_1txwivl atm_h_1h6ojuz dir dir-ltr\"><svg xmlns=\"http://www.w3.org/2000/svg\" viewBox=\"0 0 32 32\" aria-hidden=\"true\" role=\"presentation\" focusable=\"false\" style=\"display: block; height: 24px; width: 24px; fill: currentcolor;\"><path d=\"M11.67 0v1.67h8.66V0h2v1.67h6a2 2 0 0 1 2 1.85v16.07a2 2 0 0 1-.46 1.28l-.12.13L21 29.75a2 2 0 0 1-1.24.58H6.67a5 5 0 0 1-5-4.78V3.67a2 2 0 0 1 1.85-2h6.15V0zm16.66 11.67H3.67v13.66a3 3 0 0 0 2.82 3h11.18v-5.66a5 5 0 0 1 4.78-5h5.88zm-.08 8h-5.58a3 3 0 0 0-3 2.82v5.76zm-18.58-16h-6v6h24.66v-6h-6v1.66h-2V3.67h-8.66v1.66h-2z\"></path></svg></div></div><div class=\"m1ec1bsa atm_9s_1txwivl atm_ar_1bp4okc atm_fc_1h6ojuz atm_am_ggq5uc atm_vy_1osqo2v dir dir-ltr\"><div id=\"pdp_v3_services_104_36142513-0-row-title\" class=\"twad414 atm_7l_18pqv07 atm_9j_1kw7nm4 atm_bx_1ltc5j7 atm_c8_8ycq01 atm_g3_adnk3f atm_fr_rvubnj dir dir-ltr\">Disponible para estancias largas</div><div class=\"s9gst5p atm_7l_12u4tyr atm_h3_1y44olf atm_bx_1ltc5j7 atm_w4_1hnarqo atm_c8_fkimz8 atm_g3_11yl58k atm_fr_4ym3tx dir dir-ltr\">Permite estancias de 28 días o más</div></div></div></div><div class=\"_1wadwfl\"></div></li></ul></div><div class=\"_11jhslp\"><div class=\"_87jbxlz\"><h3 tabindex=\"-1\" class=\"hpipapi atm_7l_1kw7nm4 atm_c8_1x4eueo atm_cs_1kw7nm4 atm_g3_1kw7nm4 atm_gi_idpfg4 atm_l8_idpfg4 atm_kd_idpfg4_pfnrn2 dir dir-ltr\" elementtiming=\"LCP-target\">Privacidad y seguridad</h3></div><ul class=\"_2f5j8p\" role=\"list\"><li><div id=\"lock_on_all_bedroom_doors_9998_36142513\" class=\"rten07p atm_lo_1tcgj5g atm_le_1tcgj5g atm_5j_t94yts dir dir-ltr\"><div class=\"f16mr5nx atm_9s_1txwivl dir dir-ltr\"><div class=\"lhg7v4y atm_h0_exct8b dir dir-ltr\"><div class=\"i12mny15 atm_j6_adnk3f atm_9s_1txwivl atm_h_1h6ojuz dir dir-ltr\"><svg xmlns=\"http://www.w3.org/2000/svg\" viewBox=\"0 0 32 32\" aria-hidden=\"true\" role=\"presentation\" focusable=\"false\" style=\"display: block; height: 24px; width: 24px; fill: currentcolor;\"><path d=\"M2.83 1.41 31.1 29.7 29.7 31.1 1.4 2.83zM5 9.38l2 2.01V29h17.49l1.99 2H3v-2h2zM25 1a2 2 0 0 1 2 1.85v20.16L25 21V3H7.12L5.65 1.52a2 2 0 0 1 1.2-.51L7 1zM11.47 15.89l1.57 1.59a3 3 0 0 0 3.46 3.48l1.47 1.48c-.6.35-1.27.56-1.97.56a5 5 0 0 1-4.53-7.11zM16 9a3 3 0 0 1 3 2.82v1.2a5 5 0 0 1 2 3.95l-4-4.02V12a1 1 0 0 0-1.68-.74l-1.4-1.42A2.99 2.99 0 0 1 16 9z\"></path></svg></div></div><div class=\"m1ec1bsa atm_9s_1txwivl atm_ar_1bp4okc atm_fc_1h6ojuz atm_am_ggq5uc atm_vy_1osqo2v dir dir-ltr\"><div id=\"lock_on_all_bedroom_doors_9998_36142513-row-title\" class=\"twad414 atm_7l_18pqv07 atm_9j_1kw7nm4 atm_bx_1ltc5j7 atm_c8_8ycq01 atm_g3_adnk3f atm_fr_rvubnj dir dir-ltr\"><span class=\"a8jt5op atm_3f_idpfg4 atm_7h_hxbz6r atm_7i_ysn8ba atm_e2_t94yts atm_ks_zryt35 atm_l8_idpfg4 atm_mk_stnw88 atm_vv_1q9ccgz atm_vy_t94yts dir dir-ltr\">No disponible: Cerradura en la puerta del dormitorio</span><del aria-hidden=\"true\">Cerradura en la puerta del dormitorio</del></div><div class=\"s9gst5p atm_7l_12u4tyr atm_h3_1y44olf atm_bx_1ltc5j7 atm_w4_1hnarqo atm_c8_fkimz8 atm_g3_11yl58k atm_fr_4ym3tx dir dir-ltr\">La puerta del dormitorio no tiene cerradura.</div></div></div></div><div class=\"_1wadwfl\"></div></li><li><div id=\"pdp_unavailable_33_36142513-0\" class=\"rten07p atm_lo_1tcgj5g atm_le_1tcgj5g atm_5j_t94yts dir dir-ltr\"><div class=\"f16mr5nx atm_9s_1txwivl dir dir-ltr\"><div class=\"lhg7v4y atm_h0_exct8b dir dir-ltr\"><div class=\"i12mny15 atm_j6_adnk3f atm_9s_1txwivl atm_h_1h6ojuz dir dir-ltr\"><svg xmlns=\"http://www.w3.org/2000/svg\" viewBox=\"0 0 32 32\" aria-hidden=\"true\" role=\"presentation\" focusable=\"false\" style=\"display: block; height: 24px; width: 24px; fill: currentcolor;\"><path d=\"m2 6.24 2 2V28h19.76l2 2H4a2 2 0 0 1-2-1.85V6.24zM3.7 2.3l26 26-1.4 1.42-26-26 1.4-1.42zM28 2a2 2 0 0 1 2 1.85v21.91l-2-2V4H8.24l-2-2H28zM7.88 12.12l2.38 2.38h-.1c-.34 0-.68.02-1.02.07a7 7 0 0 0 9.21 8.03l1.53 1.52a9 9 0 0 1-12-12zM16 7a9 9 0 0 1 8.12 12.88l-2.7-2.7h.05a7 7 0 0 0 1.45-.14 7 7 0 0 0-9.27-7.63l-1.53-1.53A8.96 8.96 0 0 1 16 7z\"></path></svg></div></div><div class=\"m1ec1bsa atm_9s_1txwivl atm_ar_1bp4okc atm_fc_1h6ojuz atm_am_ggq5uc atm_vy_1osqo2v dir dir-ltr\"><div id=\"pdp_unavailable_33_36142513-0-row-title\" class=\"twad414 atm_7l_18pqv07 atm_9j_1kw7nm4 atm_bx_1ltc5j7 atm_c8_8ycq01 atm_g3_adnk3f atm_fr_rvubnj dir dir-ltr\"><span class=\"a8jt5op atm_3f_idpfg4 atm_7h_hxbz6r atm_7i_ysn8ba atm_e2_t94yts atm_ks_zryt35 atm_l8_idpfg4 atm_mk_stnw88 atm_vv_1q9ccgz atm_vy_t94yts dir dir-ltr\">No disponible: Lavadora</span><del aria-hidden=\"true\">Lavadora</del></div></div></div></div><div class=\"_1wadwfl\"></div></li><li><div id=\"pdp_unavailable_34_36142513-0\" class=\"rten07p atm_lo_1tcgj5g atm_le_1tcgj5g atm_5j_t94yts dir dir-ltr\"><div class=\"f16mr5nx atm_9s_1txwivl dir dir-ltr\"><div class=\"lhg7v4y atm_h0_exct8b dir dir-ltr\"><div class=\"i12mny15 atm_j6_adnk3f atm_9s_1txwivl atm_h_1h6ojuz dir dir-ltr\"><svg xmlns=\"http://www.w3.org/2000/svg\" viewBox=\"0 0 32 32\" aria-hidden=\"true\" role=\"presentation\" focusable=\"false\" style=\"display: block; height: 24px; width: 24px; fill: currentcolor;\"><path d=\"m2 6.24 2 2V28h19.76l2 2H4a2 2 0 0 1-2-1.85V6.24zM3.7 2.3l26 26-1.4 1.42-26-26 1.4-1.42zM28 2a2 2 0 0 1 2 1.85v21.91l-2-2V4H8.24l-2-2H28zM7.88 12.12l1.52 1.53a6.99 6.99 0 0 0-.4 2.28l1.34-1.35L11.76 16 9.4 18.35c.23.67.57 1.29.98 1.84l2.78-2.78 1.42 1.42-2.78 2.78a6.98 6.98 0 0 0 1.84.99L16 20.24l1.41 1.42L16.07 23h.17a6.98 6.98 0 0 0 2.11-.4l1.53 1.52a9 9 0 0 1-12-12zM16 7a9 9 0 0 1 8.12 12.88l-1.53-1.53a6.99 6.99 0 0 0 .41-2.28l-1.34 1.34L20.24 16l2.35-2.35a6.98 6.98 0 0 0-.98-1.84l-2.78 2.78-1.42-1.42 2.78-2.78a6.98 6.98 0 0 0-1.84-.99L16 11.76l-1.42-1.42L15.93 9h-.17a7 7 0 0 0-2.11.4l-1.53-1.52A8.96 8.96 0 0 1 16 7zm9-1a1 1 0 1 1 0 2 1 1 0 0 1 0-2z\"></path></svg></div></div><div class=\"m1ec1bsa atm_9s_1txwivl atm_ar_1bp4okc atm_fc_1h6ojuz atm_am_ggq5uc atm_vy_1osqo2v dir dir-ltr\"><div id=\"pdp_unavailable_34_36142513-0-row-title\" class=\"twad414 atm_7l_18pqv07 atm_9j_1kw7nm4 atm_bx_1ltc5j7 atm_c8_8ycq01 atm_g3_adnk3f atm_fr_rvubnj dir dir-ltr\"><span class=\"a8jt5op atm_3f_idpfg4 atm_7h_hxbz6r atm_7i_ysn8ba atm_e2_t94yts atm_ks_zryt35 atm_l8_idpfg4 atm_mk_stnw88 atm_vv_1q9ccgz atm_vy_t94yts dir dir-ltr\">No disponible: Secadora</span><del aria-hidden=\"true\">Secadora</del></div></div></div></div><div class=\"_1wadwfl\"></div></li><li><div id=\"pdp_unavailable_5_36142513-0\" class=\"rten07p atm_lo_1tcgj5g atm_le_1tcgj5g atm_5j_t94yts dir dir-ltr\"><div class=\"f16mr5nx atm_9s_1txwivl dir dir-ltr\"><div class=\"lhg7v4y atm_h0_exct8b dir dir-ltr\"><div class=\"i12mny15 atm_j6_adnk3f atm_9s_1txwivl atm_h_1h6ojuz dir dir-ltr\"><svg xmlns=\"http://www.w3.org/2000/svg\" viewBox=\"0 0 32 32\" aria-hidden=\"true\" role=\"presentation\" focusable=\"false\" style=\"display: block; height: 24px; width: 24px; fill: currentcolor;\"><path d=\"m15 19.24 2 2v3.42l5.03 2.9-1 1.73L17 26.97V31h-2v-4.03l-4.03 2.32-1-1.73 5.03-2.9v-5.42zM3.7 2.3l26 26-1.4 1.42-26-26 1.4-1.42zm-.73 14.27L8 19.46l4.58-2.64 1.46 1.46L9 21.2V27H7v-4.65l-3.49 2.02-1-1.74L6 20.62l-4.03-2.33 1-1.73zm26.06 0 1 1.73L26 20.62l3.49 2.01-.96 1.66-5.23-5.23.7.4 5.03-2.9zM25 5v4.65l3.49-2.02 1 1.74L26 11.38l4.03 2.33-1 1.73-5.03-2.9-4.58 2.64-1.46-1.47 5.04-2.9V5h2zM3.47 7.7l5.22 5.24-.69-.4-5.03 2.9-1-1.73L6 11.38 2.51 9.37l.96-1.66zM17 1v4.03l4.03-2.32 1 1.73L17 7.34v5.42l-2-2V7.34l-5.03-2.9 1-1.73L15 5.03V1h2z\"></path></svg></div></div><div class=\"m1ec1bsa atm_9s_1txwivl atm_ar_1bp4okc atm_fc_1h6ojuz atm_am_ggq5uc atm_vy_1osqo2v dir dir-ltr\"><div id=\"pdp_unavailable_5_36142513-0-row-title\" class=\"twad414 atm_7l_18pqv07 atm_9j_1kw7nm4 atm_bx_1ltc5j7 atm_c8_8ycq01 atm_g3_adnk3f atm_fr_rvubnj dir dir-ltr\"><span class=\"a8jt5op atm_3f_idpfg4 atm_7h_hxbz6r atm_7i_ysn8ba atm_e2_t94yts atm_ks_zryt35 atm_l8_idpfg4 atm_mk_stnw88 atm_vv_1q9ccgz atm_vy_t94yts dir dir-ltr\">No disponible: Aire acondicionado</span><del aria-hidden=\"true\">Aire acondicionado</del></div></div></div></div><div class=\"_1wadwfl\"></div></li><li><div id=\"pdp_unavailable_35_36142513-0\" class=\"rten07p atm_lo_1tcgj5g atm_le_1tcgj5g atm_5j_t94yts dir dir-ltr\"><div class=\"f16mr5nx atm_9s_1txwivl dir dir-ltr\"><div class=\"lhg7v4y atm_h0_exct8b dir dir-ltr\"><div class=\"i12mny15 atm_j6_adnk3f atm_9s_1txwivl atm_h_1h6ojuz dir dir-ltr\"><svg xmlns=\"http://www.w3.org/2000/svg\" viewBox=\"0 0 32 32\" aria-hidden=\"true\" role=\"presentation\" focusable=\"false\" style=\"display: block; height: 24px; width: 24px; fill: currentcolor;\"><path d=\"m3.49 7.73 1.44 1.44A12.94 12.94 0 0 0 3 16a13 13 0 0 0 19.82 11.07l1.45 1.44A14.93 14.93 0 0 1 16 31 15 15 0 0 1 3.49 7.73zm.22-5.44 26 26-1.42 1.42-26-26 1.42-1.42zM16 1a15 15 0 0 1 12.52 23.27l-1.45-1.45A12.94 12.94 0 0 0 29 16 13 13 0 0 0 16 3a12.94 12.94 0 0 0-6.83 1.93L7.74 3.5A14.93 14.93 0 0 1 16 1zm-4.9 16a5 5 0 0 0 3.9 3.9v2.03A7 7 0 0 1 9.07 17h2.03zm5.9 4.24 1.35 1.36a6.95 6.95 0 0 1-1.35.33v-1.69zM21.24 17h1.69c-.07.47-.18.92-.34 1.35L21.24 17zM17 9.07A7 7 0 0 1 22.93 15H20.9a5 5 0 0 0-3.9-3.9V9.07zm-7.6 4.58L10.76 15H9.07c.07-.47.18-.92.33-1.35zM15 9.07v1.69L13.65 9.4A6.95 6.95 0 0 1 15 9.07zM23 8a1 1 0 1 1 0 2 1 1 0 0 1 0-2z\"></path></svg></div></div><div class=\"m1ec1bsa atm_9s_1txwivl atm_ar_1bp4okc atm_fc_1h6ojuz atm_am_ggq5uc atm_vy_1osqo2v dir dir-ltr\"><div id=\"pdp_unavailable_35_36142513-0-row-title\" class=\"twad414 atm_7l_18pqv07 atm_9j_1kw7nm4 atm_bx_1ltc5j7 atm_c8_8ycq01 atm_g3_adnk3f atm_fr_rvubnj dir dir-ltr\"><span class=\"a8jt5op atm_3f_idpfg4 atm_7h_hxbz6r atm_7i_ysn8ba atm_e2_t94yts atm_ks_zryt35 atm_l8_idpfg4 atm_mk_stnw88 atm_vv_1q9ccgz atm_vy_t94yts dir dir-ltr\">No disponible: Detector de humo</span><del aria-hidden=\"true\">Detector de humo</del></div><div class=\"s9gst5p atm_7l_12u4tyr atm_h3_1y44olf atm_bx_1ltc5j7 atm_w4_1hnarqo atm_c8_fkimz8 atm_g3_11yl58k atm_fr_4ym3tx dir dir-ltr\">Es posible que este espacio no tenga un detector de humo. Si tienes alguna pregunta, ponte en contacto con el anfitrión.</div></div></div></div><div class=\"_1wadwfl\"></div></li><li><div id=\"pdp_unavailable_36_36142513-0\" class=\"rten07p atm_lo_1tcgj5g atm_le_1tcgj5g atm_5j_t94yts dir dir-ltr\"><div class=\"f16mr5nx atm_9s_1txwivl dir dir-ltr\"><div class=\"lhg7v4y atm_h0_exct8b dir dir-ltr\"><div class=\"i12mny15 atm_j6_adnk3f atm_9s_1txwivl atm_h_1h6ojuz dir dir-ltr\"><svg xmlns=\"http://www.w3.org/2000/svg\" viewBox=\"0 0 32 32\" aria-hidden=\"true\" role=\"presentation\" focusable=\"false\" style=\"display: block; height: 24px; width: 24px; fill: currentcolor;\"><path d=\"M2.05 6.3 4 8.23V25a3 3 0 0 0 2.82 3h16.94l1.95 1.95c-.16.02-.33.04-.5.04L25 30H7a5 5 0 0 1-5-4.78V7c0-.24.02-.48.05-.7zm1.66-4 26 26-1.42 1.4-26-26 1.42-1.4zM25 2a5 5 0 0 1 5 4.78V25a5 5 0 0 1-.05.7L28 23.77V7a3 3 0 0 0-2.82-3H8.24L6.3 2.05c.16-.02.33-.04.5-.04L7 2h18zM11.1 17a5 5 0 0 0 3.9 3.9v2.03A7 7 0 0 1 9.07 17h2.03zm5.9 4.24 1.35 1.36a6.95 6.95 0 0 1-1.35.33v-1.69zM21.24 17h1.69c-.07.47-.18.92-.34 1.35L21.24 17zM17 9.07A7 7 0 0 1 22.93 15H20.9a5 5 0 0 0-3.9-3.9V9.07zm-7.6 4.58L10.76 15H9.07c.07-.47.18-.92.33-1.35zM15 9.07v1.69L13.65 9.4A6.95 6.95 0 0 1 15 9.07zM23 8a1 1 0 1 1 0 2 1 1 0 0 1 0-2z\"></path></svg></div></div><div class=\"m1ec1bsa atm_9s_1txwivl atm_ar_1bp4okc atm_fc_1h6ojuz atm_am_ggq5uc atm_vy_1osqo2v dir dir-ltr\"><div id=\"pdp_unavailable_36_36142513-0-row-title\" class=\"twad414 atm_7l_18pqv07 atm_9j_1kw7nm4 atm_bx_1ltc5j7 atm_c8_8ycq01 atm_g3_adnk3f atm_fr_rvubnj dir dir-ltr\"><span class=\"a8jt5op atm_3f_idpfg4 atm_7h_hxbz6r atm_7i_ysn8ba atm_e2_t94yts atm_ks_zryt35 atm_l8_idpfg4 atm_mk_stnw88 atm_vv_1q9ccgz atm_vy_t94yts dir dir-ltr\">No disponible: Detector de monóxido de carbono</span><del aria-hidden=\"true\">Detector de monóxido de carbono</del></div><div class=\"s9gst5p atm_7l_12u4tyr atm_h3_1y44olf atm_bx_1ltc5j7 atm_w4_1hnarqo atm_c8_fkimz8 atm_g3_11yl58k atm_fr_4ym3tx dir dir-ltr\">Es posible que este espacio no tenga un detector de monóxido de carbono. Si tienes alguna pregunta, ponte en contacto con el anfitrión.</div></div></div></div><div class=\"_1wadwfl\"></div></li></ul></div></div></section></div>'\n",
        "# Crear una sopa con BeautifulSoup\n",
        "soup = BeautifulSoup(html_tipo_alojamiento, 'html.parser')\n",
        "\n",
        "# Buscar los elementos por su clase\n",
        "tipo_alojamiento = soup.find_all(class_='_3hmsj')\n",
        "\n",
        "# Extraer el texto de cada elemento\n",
        "for tipo_alojamiento in tipo_alojamiento:\n",
        "    # display(tipo_alojamiento.get_text())\n",
        "    texto = tipo_alojamiento.get_text()\n",
        "\n",
        "    # Añade un espacio antes de cada letra mayúscula\n",
        "    texto_con_espacios = re.sub(r\"(?<=\\w)([A-Z])\", r\" \\1\", texto)\n",
        "\n",
        "    # Imprime el texto\n",
        "    display(texto_con_espacios)"
      ],
      "metadata": {
        "colab": {
          "base_uri": "https://localhost:8080/",
          "height": 209
        },
        "id": "JqEilZRl66Mt",
        "outputId": "f1ba2962-aa3d-42a8-f9c7-b3e24b204993"
      },
      "execution_count": 77,
      "outputs": [
        {
          "output_type": "display_data",
          "data": {
            "text/plain": [
              "'¿Qué hay en este alojamiento?Baño Bañera Secador de pelo Acondicionador Bidé Agua caliente Dormitorio y lavandería Elementos básicos Toallas, sábanas, jabón y papel higiénico Perchas Ropa de cama Almohadas y mantas adicionales Persianas o cortinas opacas Plancha Espacio para guardar la ropa Entretenimiento T V Calefacción y refrigeración Ventiladores portátiles Calefacción Seguridad en el hogar Botiquín Internet y oficina Wifi Zona para trabajar Cocina y comedor Cocina Cocina disponible para el uso de los huéspedes Frigorífico Microondas Utensilios básicos de cocina Cazuelas y sartenes, aceite, sal y pimienta Platos y cubiertos Cuencos, palillos, platos, tazas, etc.Cocina de inducción Horno Cafetera Copas de vino Tostadora Batidora Características de la ubicación Entrada independiente Entrada por otra calle o edificio Exterior Patio o balcón Aparcamiento e instalaciones Ascensor El alojamiento o el edificio dispone de ascensor de, al menos, 81\\xa0cm de profundidad y una entrada de 81\\xa0cm de ancho.Servicios Disponible para estancias largas Permite estancias de 28 días o más Privacidad y seguridad No disponible: Cerradura en la puerta del dormitorio Cerradura en la puerta del dormitorio La puerta del dormitorio no tiene cerradura.No disponible: Lavadora Lavadora No disponible: Secadora Secadora No disponible: Aire acondicionado Aire acondicionado No disponible: Detector de humo Detector de humo Es posible que este espacio no tenga un detector de humo. Si tienes alguna pregunta, ponte en contacto con el anfitrión.No disponible: Detector de monóxido de carbono Detector de monóxido de carbono Es posible que este espacio no tenga un detector de monóxido de carbono. Si tienes alguna pregunta, ponte en contacto con el anfitrión.'"
            ],
            "application/vnd.google.colaboratory.intrinsic+json": {
              "type": "string"
            }
          },
          "metadata": {}
        }
      ]
    },
    {
      "cell_type": "code",
      "source": [
        "# import re\n",
        "\n",
        "# # Tu texto\n",
        "# texto = \"¿Qué hay en este alojamiento?BañoBañeraSecador de pelo...\"\n",
        "\n",
        "# # Añade un espacio antes de cada letra mayúscula\n",
        "# texto_con_espacios = re.sub(r\"(?<=\\w)([A-Z])\", r\" \\1\", texto)\n",
        "\n",
        "# # Imprime el texto\n",
        "# print(texto_con_espacios)\n"
      ],
      "metadata": {
        "colab": {
          "base_uri": "https://localhost:8080/"
        },
        "id": "jt0xSFYm9Ahk",
        "outputId": "2477c298-3515-473c-82f7-4ccb1e56ed55"
      },
      "execution_count": 75,
      "outputs": [
        {
          "output_type": "stream",
          "name": "stdout",
          "text": [
            "¿Qué hay en este alojamiento?Baño Bañera Secador de pelo...\n"
          ]
        }
      ]
    },
    {
      "cell_type": "code",
      "source": [
        "from bs4 import BeautifulSoup\n",
        "\n",
        "# Tu HTML\n",
        "html_tipo_alojamiento = \"<div class=\\\"_9nu18u\\\"><section><h2 tabindex=\\\"-1\\\" class=\\\"hpipapi atm_7l_1kw7nm4 atm_c8_1x4eueo atm_cs_1kw7nm4 atm_g3_1kw7nm4 atm_gi_idpfg4 atm_l8_idpfg4 atm_kd_idpfg4_pfnrn2 dir dir-ltr\\\" elementtiming=\\\"LCP-target\\\"><div class=\\\"_tg5t3f\\\">¿Dónde me voy a quedar?</div></h2><div class=\\\"_50mnu4\\\"><div><div class=\\\"_leqb4t\\\"><h3 tabindex=\\\"-1\\\" class=\\\"hpipapi atm_7l_1kw7nm4 atm_c8_1x4eueo atm_cs_1kw7nm4 atm_g3_1kw7nm4 atm_gi_idpfg4 atm_l8_idpfg4 atm_kd_idpfg4_pfnrn2 dir dir-ltr\\\" elementtiming=\\\"LCP-target\\\">Madrid, Comunidad de Madrid, España</h3></div><div style=\\\"line-height: 1.5rem;\\\"><span><span class=\\\"ll4r2nl atm_kd_pg2kvz_1bqn0at dir dir-ltr\\\">Parque El Capricho</span></span></div></div></div><div class=\\\"_50mnu4\\\"><div><div class=\\\"_leqb4t\\\"><h3 tabindex=\\\"-1\\\" class=\\\"hpipapi atm_7l_1kw7nm4 atm_c8_1x4eueo atm_cs_1kw7nm4 atm_g3_1kw7nm4 atm_gi_idpfg4 atm_l8_idpfg4 atm_kd_idpfg4_pfnrn2 dir dir-ltr\\\" elementtiming=\\\"LCP-target\\\">Cómo moverse por la zona</h3></div><div style=\\\"line-height: 1.5rem;\\\"><span><span class=\\\"ll4r2nl atm_kd_pg2kvz_1bqn0at dir dir-ltr\\\">Metro y autobús<br>Parque El Capricho visita obligada</span></span></div></div></div></section></div>\"\n",
        "# Crear una sopa con BeautifulSoup\n",
        "soup = BeautifulSoup(html_tipo_alojamiento, 'html.parser')\n",
        "\n",
        "# Buscar los elementos por su clase\n",
        "tipo_alojamiento = soup.find_all(class_='_9nu18u')\n",
        "\n",
        "# Extraer el texto de cada elemento\n",
        "for tipo_alojamiento in tipo_alojamiento:\n",
        "    # display(tipo_alojamiento.get_text())\n",
        "    texto = tipo_alojamiento.get_text()\n",
        "\n",
        "    # Añade un espacio antes de cada letra mayúscula\n",
        "    texto_con_espacios = re.sub(r\"(?<=\\w)([A-Z])\", r\" \\1\", texto)\n",
        "\n",
        "    # Imprime el texto\n",
        "    display(texto_con_espacios)"
      ],
      "metadata": {
        "colab": {
          "base_uri": "https://localhost:8080/",
          "height": 53
        },
        "id": "1DfRasCv4ZWL",
        "outputId": "3b3a697e-e0c6-472b-aa74-08e61318d8e7"
      },
      "execution_count": 79,
      "outputs": [
        {
          "output_type": "display_data",
          "data": {
            "text/plain": [
              "'¿Dónde me voy a quedar?Madrid, Comunidad de Madrid, España Parque El Capricho Cómo moverse por la zona Metro y autobús Parque El Capricho visita obligada'"
            ],
            "application/vnd.google.colaboratory.intrinsic+json": {
              "type": "string"
            }
          },
          "metadata": {}
        }
      ]
    },
    {
      "cell_type": "code",
      "source": [
        "from bs4 import BeautifulSoup\n",
        "\n",
        "# Tu HTML\n",
        "html_tipo_alojamiento = \"<div class=\\\"c1taamis atm_h0_1rp719e atm_gq_idpfg4__qky54b dir dir-ltr\\\"><div><div class=\\\"c1e17v3g atm_7l_18pqv07 atm_bx_1ltc5j7 atm_cs_atq67q atm_c8_8ycq01 atm_g3_adnk3f atm_fr_rvubnj dir dir-ltr\\\"><div class=\\\"h1ff3zc1 atm_7l_18pqv07 atm_bx_1ltc5j7 atm_cs_qo5vgd atm_c8_8ycq01 atm_g3_adnk3f atm_fr_rvubnj atm_gq_rlvpj6 atm_gq_xl3bc0__qky54b dir dir-ltr\\\"><h3 tabindex=\\\"-1\\\" class=\\\"hpipapi atm_7l_1kw7nm4 atm_c8_1x4eueo atm_cs_1kw7nm4 atm_g3_1kw7nm4 atm_gi_idpfg4 atm_l8_idpfg4 atm_kd_idpfg4_pfnrn2 dir dir-ltr\\\" elementtiming=\\\"LCP-target\\\">Normas de la casa</h3></div><div class=\\\"is50c2g atm_gq_xvenqj dir dir-ltr\\\"><div class=\\\"i1303y2k atm_h_1q9ycp6 atm_9s_1txwivl atm_gq_logulu dir dir-ltr\\\"><span>Llegada a partir de las 12:00</span></div></div><div class=\\\"is50c2g atm_gq_xvenqj dir dir-ltr\\\"><div class=\\\"i1303y2k atm_h_1q9ycp6 atm_9s_1txwivl atm_gq_logulu dir dir-ltr\\\"><span>Salida antes de las 12:00</span></div></div><div class=\\\"is50c2g atm_gq_xvenqj dir dir-ltr\\\"><div class=\\\"i1303y2k atm_h_1q9ycp6 atm_9s_1txwivl atm_gq_logulu dir dir-ltr\\\"><span>Máximo 1&nbsp;huésped</span></div></div><div style=\\\"margin-top: 24px;\\\"><button type=\\\"button\\\" class=\\\"l1ovpqvx atm_1y33qqm_1ggndnn_10saat9 atm_17zvjtw_zk357r_10saat9 atm_w3cb4q_il40rs_10saat9 bnc5uvq atm_9j_tlke0l atm_9s_1o8liyq atm_gi_idpfg4 atm_mk_h2mmj6 atm_r3_1h6ojuz atm_vy_1wugsn5 atm_bx_1kw7nm4 atm_tl_1gw4zv3 atm_1s_glywfm atm_26_1j28jx2 atm_3f_idpfg4 atm_vb_1wugsn5 atm_c8_1kw7nm4 atm_l8_idpfg4 atm_9j_13gfvf7_1o5j5ji atm_k4_kb7nvz_1o5j5ji vczt39c atm_7l_18pqv07 atm_rd_8stvzk atm_5j_mlmjl2 atm_cs_qo5vgd atm_kd_glywfm atm_7l_12u4tyr_1d92x8c atm_rd_8stvzk_1d92x8c atm_7l_1otlplk_1nos8r atm_rd_8stvzk_1nos8r atm_7l_161hw1_1o5j5ji atm_rd_8stvzk_1o5j5ji atm_rd_8stvzk_1mj13j2 atm_3f_glywfm_jo46a5 atm_l8_idpfg4_jo46a5 atm_gi_idpfg4_jo46a5 atm_3f_glywfm_1icshfk atm_kd_glywfm_19774hq atm_uc_x37zl0_1w3cfyq atm_7l_18pqv07_1w3cfyq atm_rd_8stvzk_1w3cfyq atm_70_qporve_1w3cfyq atm_uc_glywfm_1w3cfyq_p88qr9 atm_uc_x37zl0_18zk5v0 atm_7l_18pqv07_18zk5v0 atm_rd_8stvzk_18zk5v0 atm_70_qporve_18zk5v0 atm_uc_glywfm_18zk5v0_p88qr9 dir dir-ltr\\\"><span class=\\\"c1d1a0n6 atm_9s_116y0ak atm_vh_yfq0k3 atm_ar_vrvcex atm_h_1h6ojuz atm_rd_1kw7nm4 dir dir-ltr\\\"><span class=\\\"cn5lml1 dir dir-ltr\\\">Mostrar más</span><span class=\\\"tukjzc atm_gz_1y44olf dir dir-ltr\\\"><svg xmlns=\\\"http://www.w3.org/2000/svg\\\" viewBox=\\\"0 0 32 32\\\" aria-hidden=\\\"true\\\" role=\\\"presentation\\\" focusable=\\\"false\\\" style=\\\"display: block; fill: none; height: 12px; width: 12px; stroke: currentcolor; stroke-width: 5.33333; overflow: visible;\\\"><path fill=\\\"none\\\" d=\\\"m12 4 11.3 11.3a1 1 0 0 1 0 1.4L12 28\\\"></path></svg></span></span></button></div></div></div></div>\"\n",
        "# Crear una sopa con BeautifulSoup\n",
        "soup = BeautifulSoup(html_tipo_alojamiento, 'html.parser')\n",
        "\n",
        "# Buscar los elementos por su clase\n",
        "tipo_alojamiento = soup.find_all(class_='c1taamis')\n",
        "\n",
        "# Extraer el texto de cada elemento\n",
        "for tipo_alojamiento in tipo_alojamiento:\n",
        "    # display(tipo_alojamiento.get_text())\n",
        "    texto = tipo_alojamiento.get_text()\n",
        "\n",
        "    # Añade un espacio antes de cada letra mayúscula\n",
        "    texto_con_espacios = re.sub(r\"(?<=\\w)([A-Z])\", r\" \\1\", texto)\n",
        "\n",
        "    # Imprime el texto\n",
        "    display(texto_con_espacios)"
      ],
      "metadata": {
        "colab": {
          "base_uri": "https://localhost:8080/",
          "height": 53
        },
        "id": "DKxD6sxg-mHx",
        "outputId": "dc9fe329-5314-4abc-cd73-42890ab4b782"
      },
      "execution_count": 80,
      "outputs": [
        {
          "output_type": "display_data",
          "data": {
            "text/plain": [
              "'Normas de la casa Llegada a partir de las 12:00 Salida antes de las 12:00 Máximo 1\\xa0huésped Mostrar más'"
            ],
            "application/vnd.google.colaboratory.intrinsic+json": {
              "type": "string"
            }
          },
          "metadata": {}
        }
      ]
    },
    {
      "cell_type": "code",
      "source": [
        "listings_pisos_1= soup.find_all('div','_wlu9uw')"
      ],
      "metadata": {
        "id": "dJqXcSNSfmO1"
      },
      "execution_count": 30,
      "outputs": []
    },
    {
      "cell_type": "code",
      "source": [
        "\n",
        "# Imprime el número de listings\n",
        "print(len(listings_pisos_1))\n",
        "\n",
        "# Imprime el número de listings\n",
        "print(listings_pisos_1)"
      ],
      "metadata": {
        "colab": {
          "base_uri": "https://localhost:8080/"
        },
        "id": "C5pA5ETucQkW",
        "outputId": "bd129683-4cf6-4202-b067-4a4856895aed"
      },
      "execution_count": 31,
      "outputs": [
        {
          "output_type": "stream",
          "name": "stdout",
          "text": [
            "4\n",
            "[<div class=\"_wlu9uw\"><div class=\"_1wiczqm\"><div style=\"height: 40px; width: 40px;\"><svg viewbox=\"0 0 40 40\" xmlns=\"http://www.w3.org/2000/svg\"><rect fill=\"#ebebeb\" height=\"40\" rx=\"20\" width=\"40\"></rect><path d=\"m20.75 11.5c.7908 0 1.4386.6119 1.4959 1.3881l.0041.1119.0007 6.5735c.062.0556.1209.1145.1764.1766l3.5729-.0001v-2.25h-2.25c-.4818 0-.8303-.4443-.7347-.9014l.0232-.0858 1.5-4.5c.0928-.2784.3381-.4744.6245-.5078l.087-.005h3c.2935 0 .557.1707.6792.4319l.0323.0809 1.5 4.5c.1524.4571-.1589.9283-.6228.9821l-.0887.0051h-2.25v2.25h3.75c.3846 0 .7016.2895.745.6625l.005.0875v9h-1.5v-2.25h-7.5v2.25h-1.5v-2.25h-12v2.25h-1.5v-8.25c0-.6664.28972-1.2652.75007-1.6771l-.00007-6.5729c0-.7908.61191-1.4386 1.3881-1.4959l.1119-.0041zm9.75 9.75h-7.5v4.5h7.5zm-9.75-.75h-10.5c-.38463 0-.70163.2895-.74495.6625l-.00505.0875v4.5h12v-4.5c0-.355-.2467-.6525-.578-.7302l-.0845-.0148zm6 2.25c.4142 0 .75.3358.75.75s-.3358.75-.75.75-.75-.3358-.75-.75.3358-.75.75-.75zm-6-9.75h-10.5v6h1.5v-2.25c0-.7908.6119-1.4386 1.3881-1.4959l.1119-.0041h4.5c.7908 0 1.4386.6119 1.4959 1.3881l.0041.1119v2.25h1.5zm-3 3.75h-4.5v2.25h4.5zm9.9592-3.75h-1.9192l-.9998 3h3.9188z\" fill=\"#222\"></path></svg></div></div><div><div class=\"_sg8691\"><h3 class=\"hpipapi atm_7l_1kw7nm4 atm_c8_1x4eueo atm_cs_1kw7nm4 atm_g3_1kw7nm4 atm_gi_idpfg4 atm_l8_idpfg4 atm_kd_idpfg4_pfnrn2 dir dir-ltr\" elementtiming=\"LCP-target\" tabindex=\"-1\">Habitación en: vivienda</h3></div><div class=\"_1dmhz6v\">Una habitación solo para ti con acceso a zonas comunes.</div></div></div>, <div class=\"_wlu9uw\"><div class=\"_1wiczqm\"><svg aria-hidden=\"true\" focusable=\"false\" role=\"presentation\" style=\"display: block; height: 24px; width: 24px; fill: currentcolor;\" viewbox=\"0 0 32 32\" xmlns=\"http://www.w3.org/2000/svg\"><path d=\"M31.7 15.3 29 12.58 18.12 1.7a3.07 3.07 0 0 0-4.24 0L3 12.59l-2.7 2.7 1.4 1.42L3 15.4V28a2 2 0 0 0 2 2h22a2 2 0 0 0 2-2V15.41l1.3 1.3ZM9.09 28A7 7 0 0 1 15 22.08v-2.3a2.5 2.5 0 1 1 2 0v2.3A7 7 0 0 1 22.92 28ZM27 28h-2.08a9.01 9.01 0 0 0-5.67-7.4 4.5 4.5 0 1 0-6.5 0A9.01 9.01 0 0 0 7.08 28H5V13.41L15.3 3.12a1 1 0 0 1 1.4 0L27 13.42Z\"></path></svg></div><div><div class=\"_sg8691\"><h3 class=\"hpipapi atm_7l_1kw7nm4 atm_c8_1x4eueo atm_cs_1kw7nm4 atm_g3_1kw7nm4 atm_gi_idpfg4 atm_l8_idpfg4 atm_kd_idpfg4_pfnrn2 dir dir-ltr\" elementtiming=\"LCP-target\" tabindex=\"-1\">Zonas comunes compartidas</h3></div><div class=\"_1dmhz6v\">Compartirás algunas zonas del alojamiento.</div></div></div>, <div class=\"_wlu9uw\"><div class=\"_1wiczqm\"><svg aria-hidden=\"true\" focusable=\"false\" role=\"presentation\" style=\"display: block; height: 24px; width: 24px; fill: currentcolor;\" viewbox=\"0 0 32 32\" xmlns=\"http://www.w3.org/2000/svg\"><path d=\"M7 1a3 3 0 0 0-3 2.82V31h2V4a1 1 0 0 1 .88-1H18a1 1 0 0 1 1 .88V5h-5a1 1 0 0 0-1 .88V9h-3v2h19V9h-2V6a1 1 0 0 0-.88-1H21V4a3 3 0 0 0-2.82-3H7zm13 28a1 1 0 1 0 0 2 1 1 0 0 0 0-2zm5 0a1 1 0 1 0 0 2 1 1 0 0 0 0-2zm-10 0a1 1 0 1 0 0 2 1 1 0 0 0 0-2zm5-4a1 1 0 1 0 0 2 1 1 0 0 0 0-2zm5 0a1 1 0 1 0 0 2 1 1 0 0 0 0-2zm-10 0a1 1 0 1 0 0 2 1 1 0 0 0 0-2zm5-4a1 1 0 1 0 0 2 1 1 0 0 0 0-2zm5 0a1 1 0 1 0 0 2 1 1 0 0 0 0-2zm-10 0a1 1 0 1 0 0 2 1 1 0 0 0 0-2zm5-4a1 1 0 1 0 0 2 1 1 0 0 0 0-2zm5 0a1 1 0 1 0 0 2 1 1 0 0 0 0-2zm-10 0a1 1 0 1 0 0 2 1 1 0 0 0 0-2zm5-4a1 1 0 1 0 0 2 1 1 0 0 0 0-2zm-5 0a1 1 0 1 0 0 2 1 1 0 0 0 0-2zm10 0a1 1 0 1 0 0 2 1 1 0 0 0 0-2zM15 7h10v2H15V7z\"></path></svg></div><div><div class=\"_sg8691\"><h3 class=\"hpipapi atm_7l_1kw7nm4 atm_c8_1x4eueo atm_cs_1kw7nm4 atm_g3_1kw7nm4 atm_gi_idpfg4 atm_l8_idpfg4 atm_kd_idpfg4_pfnrn2 dir dir-ltr\" elementtiming=\"LCP-target\" tabindex=\"-1\">Baño compartido</h3></div><div class=\"_1dmhz6v\">Compartirás el baño con otras personas.</div></div></div>, <div class=\"_wlu9uw\"><div class=\"_1wiczqm\"><svg aria-hidden=\"true\" focusable=\"false\" role=\"presentation\" style=\"display: block; height: 24px; width: 24px; fill: currentcolor;\" viewbox=\"0 0 32 32\" xmlns=\"http://www.w3.org/2000/svg\"><path d=\"M16.84 27.16v-3.4l-.26.09c-.98.32-2.03.51-3.11.55h-.7A11.34 11.34 0 0 1 1.72 13.36v-.59A11.34 11.34 0 0 1 12.77 1.72h.59c6.03.16 10.89 5.02 11.04 11.05V13.45a11.3 11.3 0 0 1-.9 4.04l-.13.3 7.91 7.9v5.6H25.7l-4.13-4.13zM10.31 7.22a3.1 3.1 0 1 1 0 6.19 3.1 3.1 0 0 1 0-6.2zm0 2.06a1.03 1.03 0 1 0 0 2.06 1.03 1.03 0 0 0 0-2.06zM22.43 25.1l4.12 4.13h2.67v-2.67l-8.37-8.37.37-.68.16-.3c.56-1.15.9-2.42.96-3.77v-.64a9.28 9.28 0 0 0-9-9h-.55a9.28 9.28 0 0 0-9 9v.54a9.28 9.28 0 0 0 13.3 8.1l.3-.16 1.52-.8v4.62z\"></path></svg></div><div><div class=\"_sg8691\"><h3 class=\"hpipapi atm_7l_1kw7nm4 atm_c8_1x4eueo atm_cs_1kw7nm4 atm_g3_1kw7nm4 atm_gi_idpfg4 atm_l8_idpfg4 atm_kd_idpfg4_pfnrn2 dir dir-ltr\" elementtiming=\"LCP-target\" tabindex=\"-1\">Proceso de llegada excelente</h3></div><div class=\"_1dmhz6v\">El 90 % de los últimos huéspedes han valorado con 5 estrellas el proceso de llegada.</div></div></div>]\n"
          ]
        }
      ]
    },
    {
      "cell_type": "code",
      "source": [
        "for elemento in listings_pisos_1:\n",
        "    print(elemento.text)"
      ],
      "metadata": {
        "id": "jDP2Vnm2wm2I",
        "colab": {
          "base_uri": "https://localhost:8080/"
        },
        "outputId": "1526aac4-462b-4cba-fd5d-1b62ae42594d"
      },
      "execution_count": 32,
      "outputs": [
        {
          "output_type": "stream",
          "name": "stdout",
          "text": [
            "Habitación en: viviendaUna habitación solo para ti con acceso a zonas comunes.\n",
            "Zonas comunes compartidasCompartirás algunas zonas del alojamiento.\n",
            "Baño compartidoCompartirás el baño con otras personas.\n",
            "Proceso de llegada excelenteEl 90 % de los últimos huéspedes han valorado con 5 estrellas el proceso de llegada.\n"
          ]
        }
      ]
    },
    {
      "cell_type": "code",
      "source": [
        "def extraer_informacion_alojamiento_1(listings_pisos_1):\n",
        "    caracteristicas_1_dict = {}\n",
        "\n",
        "    # Tu código existente aquí...\n",
        "\n",
        "    try:\n",
        "        tipo_alojamiento = listings_pisos_1.find('div', {'class': '_sg8691'})[3].get_text()\n",
        "    except:\n",
        "        tipo_alojamiento = 'empty'\n",
        "    # try:\n",
        "    #     anfitrion_info = listings_pisos.find('div', {'class': 't1pxe1a4'}).get_text()\n",
        "    # except:\n",
        "    #     anfitrion_info = 'empty'\n",
        "\n",
        "    # try:\n",
        "    #     experiencia_anfitrion = listings_pisos.find_all('span', {'class': 'pen26si'})[3].get_text()\n",
        "    # except:\n",
        "    #     experiencia_anfitrion = 'empty'\n",
        "\n",
        "    # Añadir el resto de los nuevos elementos siguiendo el mismo patrón...\n",
        "\n",
        "    caracteristicas_1_dict['tipo_alojamiento'] = tipo_alojamiento\n",
        "    # caracteristicas_1_dict['anfitrion_info'] = anfitrion_info\n",
        "    # caracteristicas_1_dict['experiencia_anfitrion'] = experiencia_anfitrion\n",
        "\n",
        "    # Añadir el resto de los nuevos elementos al diccionario...\n",
        "\n",
        "    return caracteristicas_1_dict\n",
        "extraer_informacion_alojamiento_1(listings_pisos_1[0])"
      ],
      "metadata": {
        "id": "cHI-6R46flpN",
        "colab": {
          "base_uri": "https://localhost:8080/"
        },
        "outputId": "eb816776-379a-4ded-ee6c-1b898fbfa7ca"
      },
      "execution_count": 47,
      "outputs": [
        {
          "output_type": "execute_result",
          "data": {
            "text/plain": [
              "{'tipo_alojamiento': 'empty'}"
            ]
          },
          "metadata": {},
          "execution_count": 47
        }
      ]
    }
  ]
}